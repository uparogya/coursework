{
 "cells": [
  {
   "cell_type": "markdown",
   "metadata": {},
   "source": [
    "# Google PageRank\n",
    "\n",
    "A play on words, using the idea of ranking web pages on the world wide web along with the name of one of Google's founders, Larry Page.  Larry Page and Sergey Brin founded Google in the late 1990s (1998?) primarily as a search engine for information and websites on the internet.  Less than ten years later, as of 2005 each were worth more than \\$10 billion dollars (US).\n",
    "\n",
    "In the language of linear algebra, their ranking algorithm uses *transition* matrices and is a *Markov process*.  When all entries in a square matrix are real and positive, Perron's Theorem guarantees that the matrix has a unique eigenvector with all positive entries and the unique associated eigenvalue is the largest of all the eigenvalues of the matrix.  \n",
    "\n",
    "In the case of the Google matrix (a Markov matrix) this largest eigenvalue is 1, and the associated eigenvector is the ranking vector.\n",
    "\n",
    "Let's explore with an example."
   ]
  },
  {
   "cell_type": "markdown",
   "metadata": {},
   "source": [
    "\n",
    "### Markov processes - Transition matrix example \n",
    "\n",
    "Suppose each year 10\\% of the people outside California move in, and 20\\% of the people inside California move out.\n",
    "\n",
    "Start with initial populations $y_0,$ outside of, and $z_0,$ inside of, California respectively. \n",
    "\n",
    "Then we get the transition matrix (of probabilities) given by,\n",
    "\n",
    "$A = \n",
    "\\begin{bmatrix} .9 & .2 \\\\ \n",
    ".1 & .8 \n",
    "\\end{bmatrix}$ with initial population vector \n",
    "$ \\textbf{u}_0 = \n",
    "\\begin{bmatrix} y_0  \\\\ \n",
    "z_0 \n",
    "\\end{bmatrix}.$\n",
    "\n",
    "Each column sums to 1, indicating a constant total population equal to $y_0 + z_0.$"
   ]
  },
  {
   "cell_type": "markdown",
   "metadata": {},
   "source": [
    "---\n",
    "#### Question - Steady-state\n",
    "\n",
    "No matter what population you start with for $y_0$ and $z_0,$ you will always approach the steady-state solution of two-thirds of the total population being outside of California and one-third inside.\n",
    "\n",
    "Why? \n",
    "\n",
    "This is our central question, and the answer comes from the considering the the eigenvalues and associated eigenvectors of the transition matrix. It is a diagonalizable matrix. In the cells below you will implement code that uses matrix multiplication of the transition matrix with the population vector with yearly movements of people flowing into and out of California.  Each year represents multiplication by your transition matrix.  Answer the now with your initial thoughts, and again after you have run the code below.  Discuss in terms of the diagonalization of the transistion matrix.\n",
    "\n",
    ">\n",
    "> Please write up your answer here.\n",
    "> When k approaches to the maximim limit for A^k, D^k->infi goes closer to [[1,0][0,0]].\n",
    "\n",
    "> The eigen vectors obtained from the matrix A are [2,1] and [1,-1].\n",
    "\n",
    "> When the eigen vectors are used in V . D . V^(-1), the resulting dot product equation will become [[2/3,2/3],[1/3,1/3]] [y0, z0]\n",
    "\n",
    "> Which will ultimately give a dot product of [2/3(y0+z0),1/3(y0+z0)]\n",
    "\n",
    "> Therefore no matter what two values we take, the output will be a steady-state solution because y0 & z0 are both added.\n",
    "\n",
    "\n"
   ]
  },
  {
   "cell_type": "markdown",
   "metadata": {},
   "source": [
    "---\n",
    "#### Implementation\n",
    "\n",
    "Type in your transition matrix $A.$  \n",
    "\n",
    "Set starting values for $y_0$ and $z_0$ (actual numbers you choose,) and see how many iterations it takes to reach your steady-state values to four decimal places. (How might you script/automate this code?)\n",
    "\n",
    "Use `u = A@u` in the code cell below.\n",
    "\n",
    "Do this until the decimals stop changing in 1/10000 place.  How long did it take?  Did your answer converge to the steady-state vector previously mentioned? How can you use diagonalization to find the steady-state?  Explain briefly.\n"
   ]
  },
  {
   "cell_type": "code",
   "execution_count": 1,
   "metadata": {
    "collapsed": false,
    "jupyter": {
     "outputs_hidden": false
    }
   },
   "outputs": [],
   "source": [
    "import numpy as np"
   ]
  },
  {
   "cell_type": "code",
   "execution_count": 3,
   "metadata": {
    "collapsed": false,
    "jupyter": {
     "outputs_hidden": false
    }
   },
   "outputs": [
    {
     "data": {
      "text/plain": [
       "array([[224.63297027],\n",
       "       [120.36702973]])"
      ]
     },
     "execution_count": 3,
     "metadata": {},
     "output_type": "execute_result"
    }
   ],
   "source": [
    "# (Semi-optional) We'll code as a class\n",
    "# Put your code here. Try your own version first, before moving on.\n",
    "# What about diagonalozation?\n",
    "\n",
    "A = np.array([[.9, .2],\n",
    "              [.1, .8]])\n",
    "u = np.array([[40], \n",
    "              [305]]) \n",
    "\n",
    "for i in range(10):\n",
    "    u = A@u\n",
    "\n",
    "u"
   ]
  },
  {
   "cell_type": "markdown",
   "metadata": {},
   "source": [
    "#### Try your own loop above first!\n",
    "\n",
    "Before moving on to the code below, think about how you can automate the process. You will multiply the initial value vector $\\textbf{u}_0$ by A to get the values at the next timestep $$\\textbf{u}_1 \\; = \\; A\\textbf{u}_0.$$\n",
    "\n",
    "Iterating this process requires multiplication by $A$ at each step so that\n",
    "\n",
    "$$\\textbf{u}_{n+1} \\; = \\; A\\textbf{u}_n.$$\n",
    "\n",
    "In general, this means that \n",
    "\n",
    "$$\\textbf{u}_{n+1} \\; = \\; A^n\\textbf{u}_0.$$\n",
    "\n",
    "When $A$ is diagonalizable we can use the diagonalization directly to find steady-states if they exist.\n",
    "\n",
    "For now, try to write a working loop. We can compare our loops to the diagonalization method later."
   ]
  },
  {
   "cell_type": "code",
   "execution_count": 5,
   "metadata": {
    "collapsed": false,
    "jupyter": {
     "outputs_hidden": false
    }
   },
   "outputs": [
    {
     "name": "stdout",
     "output_type": "stream",
     "text": [
      "[[230.]\n",
      " [115.]] \n",
      "\n",
      "[[229.99998577]\n",
      " [115.00001423]] 46\n"
     ]
    }
   ],
   "source": [
    "# working code that automates the process.\n",
    "A = np.array([[.9, .2], \n",
    "              [.1, .8]])\n",
    "\n",
    "# choose starting values for the populations inside u[0] and outside u[1]\n",
    "u = np.array([[40], \n",
    "              [305]])\n",
    "\n",
    "# steady-state vector\n",
    "print(np.sum(u) * np.array([[2/3], [1/3]]), \"\\n\")\n",
    "\n",
    "# np.linalg.eig() command\n",
    "d, V = np.linalg.eig(A)\n",
    "\n",
    "tol = 0.00001\n",
    "diff = 1\n",
    "k = 0\n",
    "\n",
    "# use a while loop to implement the stopping condition\n",
    "while diff >= tol:\n",
    "    u1 = A@u\n",
    "    # norm is a notion of \"distance\" between vectors\n",
    "    diff = np.linalg.norm(u1 - u)\n",
    "    u = u1\n",
    "    k += 1\n",
    "    # print(diff)\n",
    "    \n",
    "print(u, k)"
   ]
  },
  {
   "cell_type": "markdown",
   "metadata": {},
   "source": [
    "### Another example - (Preview 4.5.1 ULA)\n",
    "\n",
    "Suppose that our rental car company rents from two locations P and Q. We find that 80% of the cars rented from location P are returned to P while the other 20% are returned to Q. For cars rented from location Q, 60% are returned to Q and 40% to P.\n",
    "\n",
    "Use the example above to implement all parts of the preview activity here in this notebook.  Check your by hand calculations."
   ]
  },
  {
   "cell_type": "code",
   "execution_count": 7,
   "metadata": {
    "tags": []
   },
   "outputs": [
    {
     "data": {
      "text/plain": [
       "(array([[0.8, 0.4],\n",
       "        [0.2, 0.6]]),\n",
       " array([[1500],\n",
       "        [   0]]))"
      ]
     },
     "execution_count": 7,
     "metadata": {},
     "output_type": "execute_result"
    }
   ],
   "source": [
    "# This is the transition matrix we should have with a total of 1500 cars, all initially at P.\n",
    "A = np.array([[.8, .4], \n",
    "              [.2, .6]])\n",
    "\n",
    "x0 = np.array([[1500, 0]]).T\n",
    "\n",
    "A, x0"
   ]
  },
  {
   "cell_type": "code",
   "execution_count": 9,
   "metadata": {},
   "outputs": [
    {
     "name": "stdout",
     "output_type": "stream",
     "text": [
      "[1.  0.4] \n",
      "\n",
      "[[1.  0. ]\n",
      " [0.  0.4]] \n",
      "\n",
      "[[ 0.89442719 -0.70710678]\n",
      " [ 0.4472136   0.70710678]] \n",
      "\n"
     ]
    }
   ],
   "source": [
    "d, V = np.linalg.eig(A)\n",
    "print(d, \"\\n\")\n",
    "\n",
    "# Make the diagonal matrix D with eigenvalues of A on the diagonal.\n",
    "D = np.diag(d)\n",
    "\n",
    "print(D, \"\\n\")\n",
    "print(V, \"\\n\")"
   ]
  },
  {
   "cell_type": "markdown",
   "metadata": {},
   "source": [
    "#### Question\n",
    "\n",
    "What does diagonalization do for us in this case? Explain.\n",
    "\n",
    "> Since the matrix we have is, diagonalizable we can use the diagonalization directly to find steady-states. \n",
    "> np.diag(d) gives us the output in the form of two column eigen vectors.\n",
    "\n",
    "> If A - lam.I is [[a-lam b][c d-lam]], we can ignore b and c because we are multiplying with an identity matrix. therefore, A - lam is only considered."
   ]
  },
  {
   "cell_type": "code",
   "execution_count": 11,
   "metadata": {},
   "outputs": [
    {
     "data": {
      "text/plain": [
       "array([[0.66666667, 0.66666667],\n",
       "       [0.33333333, 0.33333333]])"
      ]
     },
     "execution_count": 11,
     "metadata": {},
     "output_type": "execute_result"
    }
   ],
   "source": [
    "# diagonaliztion of A**k, k large. Why?\n",
    "V @ np.array([[1,0], [0,0]]) @ np.linalg.inv(V)"
   ]
  },
  {
   "cell_type": "markdown",
   "metadata": {},
   "source": [
    "#### Question\n",
    "\n",
    "Does it matter what your initial values are? How and why?\n",
    "\n",
    ">\n",
    "> It doesn't matter what the initial values are. Since we are adding the In and Out values, the multiplication with 2/3 and 1/3 will have the same ratio at the end.\n",
    "\n",
    "> The eigen vectors obtained from the matrix A are [2,1] and [1,-1].\n",
    "\n",
    "> When the eigen vectors are used in V . D . V^(-1), the resulting dot product equation will become [[2/3,2/3],[1/3,1/3]] [y0, z0]\n",
    "\n",
    "> Which will ultimately give a dot product of [2/3(y0+z0),1/3(y0+z0)]\n",
    "\n",
    "> Therefore no matter what two values we take, the output will be a steady-state solution because y0 & z0 are both added.\n",
    "\n"
   ]
  },
  {
   "cell_type": "markdown",
   "metadata": {},
   "source": [
    "\n",
    "### PageRank example\n",
    "\n",
    "Google models your web surfing assuming that everyone is a random surfer with \"damping\" conditions that guarantee Perron's Theorem (Perron-Froenius) can be used to rank every page on the internet.  They assume that if you start on a given page you have a 85% chance of following a link on that page, and a 15% of \"teleporting\" to any page in the network.\n",
    "\n",
    "Consider the network in figure 10.4 on the top of page 98 in \"When Life is Linear\" (T. Chartier).  What is the Google matrix for this network?\n",
    "\n",
    "Using the iterative process from the population example above, what is the ranking vector?  Does the page we start on matter in determining this vector?  Experiment and discuss on what you have done with your classmates.\n",
    "\n",
    "The material in the book uses a left eigenvector (row vector.)  What can we do to use our notation with the right eigenvectors we have defined with the convention in our book?\n",
    "\n",
    "Discuss as a group, and individually input your Markov matrix in the code cell below. Experiment. Answer the questions above and any others you come up with.  Discuss any interesting observations from your experimentation.\n",
    "\n"
   ]
  },
  {
   "cell_type": "code",
   "execution_count": 13,
   "metadata": {
    "collapsed": false,
    "jupyter": {
     "outputs_hidden": false
    }
   },
   "outputs": [
    {
     "name": "stdout",
     "output_type": "stream",
     "text": [
      "[[0.025      0.875      0.875      0.025      0.025      0.16666667]\n",
      " [0.025      0.025      0.025      0.30833333 0.025      0.16666667]\n",
      " [0.025      0.025      0.025      0.30833333 0.45       0.16666667]\n",
      " [0.875      0.025      0.025      0.025      0.025      0.16666667]\n",
      " [0.025      0.025      0.025      0.30833333 0.025      0.16666667]\n",
      " [0.025      0.025      0.025      0.025      0.45       0.16666667]]\n"
     ]
    }
   ],
   "source": [
    "# Start with finding and defining the transition matrix on page 99. \n",
    "# Our matrix should be for right eigenvector so it will be different from the handout. (How?)\n",
    "\n",
    "G = np.array([[1/40, 35/40, 35/40, 1/40, 1/40, 6/36],\n",
    "    [1/40, 1/40, 1/40, 37/120, 1/40, 6/36],\n",
    "    [1/40, 1/40, 1/40, 37/120, 18/40, 6/36],\n",
    "    [35/40, 1/40, 1/40, 1/40, 1/40, 6/36],\n",
    "    [1/40, 1/40, 1/40, 37/120, 1/40, 6/36],\n",
    "    [1/40, 1/40, 1/40, 1/40, 18/40, 6/36]])\n",
    "\n",
    "print(G)"
   ]
  },
  {
   "cell_type": "code",
   "execution_count": 15,
   "metadata": {
    "collapsed": false,
    "jupyter": {
     "outputs_hidden": false
    }
   },
   "outputs": [],
   "source": [
    "# Put your code here for the PageRank example.\n",
    "v = np.array([[1, 0, 0, 0, 0, 0]]).T"
   ]
  },
  {
   "cell_type": "markdown",
   "metadata": {},
   "source": [
    "#### Before moving on, try your own code first!\n",
    "\n",
    "Try something in the code cell above before looking at the code below. Look back at previous examples for ideas!\n",
    "\n"
   ]
  },
  {
   "cell_type": "code",
   "execution_count": 17,
   "metadata": {
    "collapsed": false,
    "jupyter": {
     "outputs_hidden": false
    }
   },
   "outputs": [
    {
     "name": "stdout",
     "output_type": "stream",
     "text": [
      "[[0.26764086]\n",
      " [0.11192761]\n",
      " [0.15948778]\n",
      " [0.26447998]\n",
      " [0.11192761]\n",
      " [0.08453615]] 30\n"
     ]
    }
   ],
   "source": [
    "# Try your own code first! Then check this out.\n",
    "\n",
    "v = np.array([[1, 0, 0, 0, 0, 0]]).T\n",
    "\n",
    "#v=G@v\n",
    "\n",
    "tol = 0.0001;\n",
    "dg = 1;\n",
    "k = 0;\n",
    "\n",
    "while dg >= tol:\n",
    "    v1 = G@v\n",
    "    dg = np.linalg.norm(v1-v)\n",
    "    v = v1\n",
    "    k = k+1\n",
    "\n",
    "print(v, k)"
   ]
  },
  {
   "cell_type": "code",
   "execution_count": 19,
   "metadata": {},
   "outputs": [
    {
     "name": "stdout",
     "output_type": "stream",
     "text": [
      "[ 1.00000000e+00+0.j         -3.03658516e-01+0.64560393j\n",
      " -3.03658516e-01-0.64560393j -2.26683974e-01+0.j\n",
      "  1.25667673e-01+0.j          1.70816868e-17+0.j        ] \n",
      "\n",
      "[0.26766152-0.j 0.11191508-0.j 0.15947899-0.j 0.26448886-0.j\n",
      " 0.11191508-0.j 0.08454048-0.j] \n",
      "\n"
     ]
    }
   ],
   "source": [
    "# Using diagonalization\n",
    "d, V = np.linalg.eig(G)\n",
    "print(d, \"\\n\")\n",
    "\n",
    "# ranking vector corresponds to steady-state \n",
    "# given by the eigenvector associated with eigenvalue = 1 (guaranteed by Perron Thm.)\n",
    "v1 = V[:,0]\n",
    "out = v1/sum(v1)\n",
    "print(out, \"\\n\")"
   ]
  },
  {
   "cell_type": "markdown",
   "metadata": {},
   "source": [
    "---\n",
    "### (Your) Discussion of PageRank\n",
    "\n",
    "Describe in your own words how the PageRank algorithm presented ranks web pages.\n",
    "\n",
    ">\n",
    "> My prediction was that node 3 and 1 would have the highest probability. However, we were correct on the 1, but not on the 3.\n",
    "\n",
    "> We were correct on the node 6, since it had only one link coming to it, it had the least probability.\n",
    ">\n",
    "> This means that the page rankings are done by how many other pages link to the target webpage. I know this by SEO which is search engine optimization. In order make a page search engine optimized, we need to link our page to different other pages. This means that the algorithm is working as expected with only one outlier which may be caused because of any cycle that loops back to the same page. \n",
    ">"
   ]
  }
 ],
 "metadata": {
  "kernelspec": {
   "display_name": "Python 3 (ipykernel)",
   "language": "python",
   "name": "python3"
  },
  "language_info": {
   "codemirror_mode": {
    "name": "ipython",
    "version": 3
   },
   "file_extension": ".py",
   "mimetype": "text/x-python",
   "name": "python",
   "nbconvert_exporter": "python",
   "pygments_lexer": "ipython3",
   "version": "3.12.4"
  }
 },
 "nbformat": 4,
 "nbformat_minor": 4
}
