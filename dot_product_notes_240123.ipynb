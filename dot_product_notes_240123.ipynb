{
 "cells": [
  {
   "cell_type": "markdown",
   "metadata": {},
   "source": [
    "# The dot product"
   ]
  },
  {
   "cell_type": "markdown",
   "metadata": {},
   "source": [
    "### Definition of the dot product\n",
    "\n",
    "The *dot product* of two vectors $\\mathbf{x}$ and $\\mathbf{y}$ from $\\mathbb{R}^n,$ written as $\\mathbf{x}\\cdot\\mathbf{y},$ is defined as the sum of the entry-wise scalar products \n",
    "\n",
    "$$ \\mathbf{x}\\cdot\\mathbf{y} = \\sum_{k=1}^n x_k y_k $$\n",
    "\n",
    "where $\\mathbf{x} = (x_1,\\ldots, x_n)$ and $\\mathbf{y} = (y_1,\\ldots, y_n).$ \n",
    "\n",
    "(The dot product is an inner product.)\n",
    "\n",
    "Consequences of the definition of the dot product:\n",
    "1. Vectors $\\mathbf{x}$ and $\\mathbf{y}$ must have the same number of entries in order to take their dot product.\n",
    "2. $\\mathbf{x} \\cdot \\mathbf{y}$ is real number, i.e. $\\mathbf{x} \\cdot \\mathbf{y} \\in \\mathbb{R}.$\n",
    "3. $\\mathbf{x} \\cdot \\mathbf{y} = \\mathbf{y} \\cdot \\mathbf{x}.$"
   ]
  },
  {
   "cell_type": "code",
   "execution_count": 1,
   "metadata": {
    "collapsed": false,
    "jupyter": {
     "outputs_hidden": false
    }
   },
   "outputs": [],
   "source": [
    "import numpy as np"
   ]
  },
  {
   "cell_type": "code",
   "execution_count": 3,
   "metadata": {
    "collapsed": false,
    "jupyter": {
     "outputs_hidden": false
    }
   },
   "outputs": [
    {
     "name": "stdout",
     "output_type": "stream",
     "text": [
      "[0 1 2]\n",
      "<class 'numpy.ndarray'>\n",
      "\n",
      "[3 4 5]\n",
      "<class 'numpy.ndarray'>\n",
      "\n"
     ]
    },
    {
     "data": {
      "text/plain": [
       "14"
      ]
     },
     "execution_count": 3,
     "metadata": {},
     "output_type": "execute_result"
    }
   ],
   "source": [
    "# code example with vectors x and y.\n",
    "# Notice these vectors have single [] in this representation.\n",
    "\n",
    "x = np.array([0,1,2])\n",
    "print(x)\n",
    "print(type(x))\n",
    "print(\"\")\n",
    "\n",
    "y = np.array([3,4,5])\n",
    "print(y)\n",
    "print(type(y))\n",
    "print(\"\")\n",
    "\n",
    "# the np.inner() command just takes these 'vectors.' No need to worry about col or row representation.\n",
    "# This is the dot product of x and y.  Check the calculation by hand.\n",
    "np.inner(x,y)"
   ]
  },
  {
   "cell_type": "code",
   "execution_count": 5,
   "metadata": {
    "collapsed": false,
    "jupyter": {
     "outputs_hidden": false
    }
   },
   "outputs": [
    {
     "data": {
      "text/plain": [
       "14"
      ]
     },
     "execution_count": 5,
     "metadata": {},
     "output_type": "execute_result"
    }
   ],
   "source": [
    "# check that np.inner(y,x) is the same as above.\n",
    "np.inner(y,x)"
   ]
  },
  {
   "cell_type": "markdown",
   "metadata": {},
   "source": [
    "### Dot product as matrix product\n",
    "\n",
    "The dot product can also be represented by a row vector multiplied on the right by a column vector.\n",
    "\n",
    "Let $\\mathbf{x}, \\mathbf{y} \\in \\mathbb{R}^n.$ Then,\n",
    "\n",
    "$$\n",
    "\\mathbf{x} =\n",
    "\\begin{bmatrix}\n",
    "x_1 \\\\\n",
    "x_2 \\\\\n",
    "\\vdots \\\\\n",
    "x_n \\\\\n",
    "\\end{bmatrix}\n",
    ", \\; \\text{and}  \\;\n",
    "\\mathbf{y} =\n",
    "\\begin{bmatrix}\n",
    "y_1 \\\\\n",
    "y_2 \\\\\n",
    "\\vdots \\\\\n",
    "y_n \\\\\n",
    "\\end{bmatrix}\n",
    "$$\n",
    "\n",
    "with the transpose of $\\mathbf{x},$ given by the row vector $\\mathbf{x}^T = \\begin{bmatrix}x_1 & \\ldots & x_n \\end{bmatrix} .$\n",
    "\n",
    "So,\n",
    "\n",
    "$$\n",
    "\\mathbf{x} \\cdot \\mathbf{y} = \\mathbf{x}^T \\mathbf{y} =\n",
    "\\begin{bmatrix}\n",
    "x_1 & x_2 & \\ldots & x_n \\\\\n",
    "\\end{bmatrix}\n",
    "\\begin{bmatrix}\n",
    "y_1 \\\\\n",
    "y_2 \\\\\n",
    "\\vdots \\\\\n",
    "y_n \\\\\n",
    "\\end{bmatrix}\n",
    "$$\n"
   ]
  },
  {
   "cell_type": "code",
   "execution_count": 7,
   "metadata": {
    "collapsed": false,
    "jupyter": {
     "outputs_hidden": false
    }
   },
   "outputs": [
    {
     "name": "stdout",
     "output_type": "stream",
     "text": [
      "[[0 1 2]]\n",
      "\n",
      "[[0]\n",
      " [1]\n",
      " [2]]\n",
      "\n",
      "[[3 4 5]]\n",
      "\n",
      "[[3]\n",
      " [4]\n",
      " [5]]\n",
      "\n",
      "[[0 1 2]]\n",
      "\n",
      "[[3]\n",
      " [4]\n",
      " [5]]\n"
     ]
    },
    {
     "data": {
      "text/plain": [
       "array([[14]])"
      ]
     },
     "execution_count": 7,
     "metadata": {},
     "output_type": "execute_result"
    }
   ],
   "source": [
    "# dot product as a matrix product\n",
    "# Note, we are putting the single [] version of x into the array command, so that we have a matrix 2D array structure with double [[]].\n",
    "a = np.array([x])\n",
    "print(a)\n",
    "print(\"\")\n",
    "\n",
    "a = a.T\n",
    "print(a)\n",
    "print(\"\")\n",
    "\n",
    "b = np.array([y])\n",
    "print(b)\n",
    "print(\"\")\n",
    "\n",
    "b = b.T\n",
    "print(b)\n",
    "print(\"\")\n",
    "\n",
    "# recall we use @ for a matrix product\n",
    "print(a.T)\n",
    "print(\"\")\n",
    "print(b)\n",
    "a.T@b"
   ]
  },
  {
   "cell_type": "markdown",
   "metadata": {},
   "source": [
    "### Length in $\\mathbb{R}^n$\n",
    "\n",
    "The length of a vector $\\mathbf{x}$ in $\\mathbb{R}^n$ is denoted by a 'double' absolute value symbol, $\\left\\lVert \\mathbf{x} \\right\\rVert$.  The length of $\\mathbf{x}$ is defined via the Pythagorean theorem as the square root of the dot product of $\\mathbf{x}$ with itself, i.e.\n",
    "\n",
    "$$\\left\\lVert \\mathbf{x} \\right\\rVert  = \\sqrt{\\mathbf{x} \\cdot \\mathbf{x}}.$$\n",
    "\n",
    "We also call this the norm of $\\mathbf{x}.$ There are many norms. Specifically the just defined is also called the 2-norm or Euclidean norm.\n",
    "\n",
    "Since the Euclidean norm is defined as dot product it shares similar properties:\n",
    "1. $\\left\\lVert a\\mathbf{x} \\right\\rVert = |a| \\left\\lVert \\mathbf{x} \\right\\rVert$\n",
    "2. $\\left\\lVert \\mathbf{x}+\\mathbf{y} \\right\\rVert \\leq \\left\\lVert \\mathbf{x} \\right\\rVert + \\left\\lVert \\mathbf{y} \\right\\rVert,  \\quad \\quad$ (triangle inequality)\n",
    "3. If $\\left\\lVert \\mathbf{x} \\right\\rVert = 0$ then $ \\mathbf{x} = \\mathbf{0}, \\quad \\quad \\; \\;$ (This says that the zero vector is the only vector with norm 0.)\n",
    "\n",
    "One can verify these properties directly from the definition."
   ]
  },
  {
   "cell_type": "code",
   "execution_count": 9,
   "metadata": {
    "collapsed": false,
    "jupyter": {
     "outputs_hidden": false
    }
   },
   "outputs": [
    {
     "name": "stdout",
     "output_type": "stream",
     "text": [
      "2.23606797749979\n",
      "\n",
      "[[2.23606798]]\n",
      "\n",
      "2.23606797749979\n"
     ]
    }
   ],
   "source": [
    "# Three different commands to find the length of x\n",
    "\n",
    "# taking square root of dot product using np.inner(x,x)\n",
    "x_len1 = np.sqrt(np.inner(x,x))\n",
    "print(x_len1)\n",
    "print(\"\")\n",
    "\n",
    "# taking square root of dot product using matrix product row times column\n",
    "x_len2 = np.sqrt(a.T@a)\n",
    "print(x_len2)\n",
    "print(\"\")\n",
    "\n",
    "# using built functionality of norm\n",
    "x_len3 = np.linalg.norm(x)\n",
    "print(x_len3)"
   ]
  },
  {
   "cell_type": "code",
   "execution_count": 15,
   "metadata": {
    "collapsed": false,
    "jupyter": {
     "outputs_hidden": false
    }
   },
   "outputs": [
    {
     "name": "stdout",
     "output_type": "stream",
     "text": [
      "7.0710678118654755\n"
     ]
    }
   ],
   "source": [
    "# Optional: write code to find the length of y\n",
    "y_len1 = np.sqrt(np.inner(y,y))\n",
    "print(y_len1)"
   ]
  },
  {
   "cell_type": "code",
   "execution_count": 17,
   "metadata": {
    "collapsed": false,
    "jupyter": {
     "outputs_hidden": false
    }
   },
   "outputs": [
    {
     "name": "stdout",
     "output_type": "stream",
     "text": [
      "[[1 2 3]\n",
      " [4 5 6]\n",
      " [7 8 9]]\n",
      "\n",
      "[1 4 7]\n",
      "\n",
      "8.12403840463596\n",
      "\n",
      "8.12403840463596\n"
     ]
    }
   ],
   "source": [
    "# example of pulling a column or row vector directly from a matrix\n",
    "\n",
    "# define matrix A\n",
    "A = np.arange(9).reshape(3,3)+1\n",
    "print(A)\n",
    "print(\"\")\n",
    "\n",
    "# Recall how we can get the 1st col\n",
    "print(A[:,0])\n",
    "print(\"\")\n",
    "\n",
    "# length of 1st col of A\n",
    "print(np.sqrt(np.inner(A[:,0],A[:,0])))\n",
    "print(\"\")\n",
    "\n",
    "# better, just use the norm function\n",
    "print(np.linalg.norm(A[:,0]))"
   ]
  },
  {
   "cell_type": "code",
   "execution_count": 21,
   "metadata": {
    "collapsed": false,
    "jupyter": {
     "outputs_hidden": false
    }
   },
   "outputs": [
    {
     "name": "stdout",
     "output_type": "stream",
     "text": [
      "8.12403840463596\n",
      "9.643650760992955\n",
      "11.224972160321824\n"
     ]
    }
   ],
   "source": [
    "# Which col or row of A is `longest`? i.e. which has the greatest magnitude?\n",
    "# You should not need a calculation to answer\n",
    "# But calculate anyway to check\n",
    "print(np.linalg.norm(A[:,0]))\n",
    "print(np.linalg.norm(A[:,1]))\n",
    "print(np.linalg.norm(A[:,2]))\n",
    "# Put your code here to check\n"
   ]
  },
  {
   "cell_type": "code",
   "execution_count": null,
   "metadata": {
    "collapsed": false,
    "jupyter": {
     "outputs_hidden": false
    }
   },
   "outputs": [],
   "source": [
    "# Code to do all cols at one time\n",
    "# axis calls rows with 1st dim matching our A.shape command\n",
    "# returns a vector of norms for each vector along the specified axis\n",
    "\n",
    "# cols one at a time\n",
    "print(np.linalg.norm(A, axis=0))\n",
    "print(\"\")\n",
    "\n",
    "# rows at one time\n",
    "print(np.linalg.norm(A, axis=1))\n",
    "\n",
    "# Does this match your calculations above??"
   ]
  },
  {
   "cell_type": "markdown",
   "metadata": {},
   "source": [
    "### Angles in $\\mathbb{R}^n$\n",
    "\n",
    "In $\\mathbb{R}^2$ and $\\mathbb{R}^3$ we can visualize the angle $\\theta$ between vectors and even find $\\theta$ using the law of cosines. It's tough to visulize angles in $\\mathbb{R}^n$ for $n\\geq 4,$ but we can still generalize the idea of $\\cos\\theta$ in the same way we generalized the Pythagorean theorem in our definition of the Euclidean norm.\n",
    "\n",
    "The cosine of the angle between vectors $\\mathbf{x}$ and $\\mathbf{y}$ in $\\mathbb{R}^n$ is given by\n",
    "\n",
    "$$ \\cos \\theta = \\frac{\\mathbf{x}\\cdot\\mathbf{y}}{\\lVert \\mathbf{x} \\rVert \\lVert \\mathbf{y} \\rVert}. $$\n",
    "\n",
    "\n",
    "This is a nice idea, but we really are just interested in one angle between vectors in $\\mathbb{R}^n$. What do think that angle is?"
   ]
  },
  {
   "cell_type": "markdown",
   "metadata": {},
   "source": [
    "### Orthogonality\n",
    "\n",
    "In $\\mathbb{R}^2$ and $\\mathbb{R}^3,$ we say that two vectors are perpendicular if the angle between them is 90 degrees or $\\pi /2$ radians. Recall from trigonometry that the cosine of $\\pi/2$ is zero."
   ]
  },
  {
   "cell_type": "code",
   "execution_count": null,
   "metadata": {
    "collapsed": false,
    "jupyter": {
     "outputs_hidden": false
    }
   },
   "outputs": [],
   "source": [
    "# We can even check this quickly with some code.\n",
    "np.cos(90)"
   ]
  },
  {
   "cell_type": "code",
   "execution_count": null,
   "metadata": {
    "collapsed": false,
    "jupyter": {
     "outputs_hidden": false
    }
   },
   "outputs": [],
   "source": [
    "# wait a second...\n",
    "# input is probably radians. We always check any function in code cell\n",
    "# or on the command line by typing ? in front of the function and running the cell\n",
    "#  ?np.cos()\n",
    "np.cos(np.pi/2)\n",
    "\n",
    "# Wait again?? Isn't the result supposd to be zero?\n",
    "# Numerically it is. Any number at 10^(-16) or thereabouts is numerically zero."
   ]
  },
  {
   "cell_type": "markdown",
   "metadata": {},
   "source": [
    "So from our generalization of the cosine formula, we only need to consider the numerator of that expression to find when two vectors are perpendicular in $\\mathbb{R}^n.$ \n",
    "\n",
    "In fact we define two vectors $\\mathbf{x}$ and $\\mathbf{y}$ in $\\mathbb{R}^n$ as being perpendicular, or *orthogonal*, if their dot product is zero. That is to say $\\mathbf{x}$ and $\\mathbf{y}$ are orthogonal, if $\\mathbf{x} \\cdot \\mathbf{y} = 0.$ \n",
    "\n",
    "In symbols we write,\n",
    "\n",
    "$$ \\mathbf{x} \\perp \\mathbf{y}  \\quad \\quad \\text{if} \\quad \\quad \\mathbf{x} \\cdot \\mathbf{y} = 0. $$"
   ]
  },
  {
   "cell_type": "markdown",
   "metadata": {},
   "source": [
    "### example\n",
    "\n",
    "Consider the Haar matrix $H$, given by\n",
    "\n",
    "$$\n",
    "H = \n",
    "\\begin{bmatrix}\n",
    "1 & 1 & 1 & 1 \\\\\n",
    "1 & 1 & -1 & -1 \\\\\n",
    "1 & -1 & 1 & -1 \\\\\n",
    "1 & -1 & -1 & 1 \\\\\n",
    "\\end{bmatrix}\n",
    "$$\n",
    "\n",
    "What are the angles between each column of $H$? Are the columns of $H$ orthogonal?\n",
    "\n",
    "(Note that the rows are the same as the cols and the this matrix is *symmetric*.) How can you check or assess the orthogonality of the columns of $H$? Do this on scratch paper through calulation or decribe clearly in words."
   ]
  },
  {
   "cell_type": "code",
   "execution_count": null,
   "metadata": {
    "collapsed": false,
    "jupyter": {
     "outputs_hidden": false
    }
   },
   "outputs": [],
   "source": [
    "# Check your work using code examples from above.\n",
    "H = np.array([[1, 1, 1, 1],[1, 1, -1, -1],[1, -1, 1, -1],[1, -1, -1, 1]])\n",
    "H\n",
    "#H[:,0].T@H[:,1] \n",
    "#np.inner(H[:,0], H[:,1])\n",
    "H.T"
   ]
  },
  {
   "cell_type": "code",
   "execution_count": null,
   "metadata": {
    "collapsed": false,
    "jupyter": {
     "outputs_hidden": false
    }
   },
   "outputs": [],
   "source": [
    "# Is there another way? Enter H as a matrix. \n",
    "# What do you get if you matrix multiply H with itself? What just happened?\n"
   ]
  },
  {
   "cell_type": "code",
   "execution_count": null,
   "metadata": {
    "tags": []
   },
   "outputs": [],
   "source": [
    "# How do we make the row and col vectors unit length?  Do this by scaling the matrix H appropriately.\n",
    "# Then check each line by uncovering the # and rerunning the cell.\n",
    "\n",
    "#G = (scalar)*H\n",
    "#G\n",
    "#G.T@G"
   ]
  },
  {
   "cell_type": "markdown",
   "metadata": {},
   "source": [
    "### Some angle examples\n",
    "\n",
    "Brief code examples shown.  Take notes on your own."
   ]
  },
  {
   "cell_type": "code",
   "execution_count": null,
   "metadata": {},
   "outputs": [],
   "source": [
    "np.degrees(np.arccos(0))"
   ]
  },
  {
   "cell_type": "code",
   "execution_count": null,
   "metadata": {},
   "outputs": [],
   "source": [
    "np.degrees(np.pi/2)"
   ]
  },
  {
   "cell_type": "code",
   "execution_count": null,
   "metadata": {},
   "outputs": [],
   "source": [
    "v = np.array([3, 2])\n",
    "w = np.array([-1, 3])\n",
    "v, w\n",
    "\n",
    "######\n",
    "# Uncover one at a time\n",
    "np.dot(v, w)\n",
    "np.linalg.norm(v)\n",
    "np.linalg.norm(w)\n",
    "angle = np.arccos(np.dot(v, w)/(np.linalg.norm(v)*np.linalg.norm(w)))\n",
    "np.degrees(angle)\n"
   ]
  },
  {
   "cell_type": "code",
   "execution_count": null,
   "metadata": {},
   "outputs": [],
   "source": [
    "x = np.array([-2, 3])\n",
    "np.dot(v, x)"
   ]
  }
 ],
 "metadata": {
  "kernelspec": {
   "display_name": "Python 3 (ipykernel)",
   "language": "python",
   "name": "python3"
  },
  "language_info": {
   "codemirror_mode": {
    "name": "ipython",
    "version": 3
   },
   "file_extension": ".py",
   "mimetype": "text/x-python",
   "name": "python",
   "nbconvert_exporter": "python",
   "pygments_lexer": "ipython3",
   "version": "3.12.4"
  }
 },
 "nbformat": 4,
 "nbformat_minor": 4
}
