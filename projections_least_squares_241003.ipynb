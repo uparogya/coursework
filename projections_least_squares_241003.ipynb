{
 "cells": [
  {
   "cell_type": "markdown",
   "id": "46e60b74-897b-462a-8235-281b33167322",
   "metadata": {},
   "source": [
    "# Projections and least squares"
   ]
  },
  {
   "cell_type": "markdown",
   "id": "b06c58e9-d3ff-4e1b-8558-ee0e5db9c3d6",
   "metadata": {},
   "source": [
    "## Projection onto a line\n",
    "\n",
    "Projecting the vector $\\mathbf{b}$ onto the vector $\\mathbf{a}$ gives the vector\n",
    "\n",
    "$$\\displaystyle{\\mathbf{p} = \\textrm{proj}_{\\mathbf{a}} \\mathbf{b} = \\frac{\\mathbf{a}^T \\mathbf{b}}{\\mathbf{a}^T \\mathbf{a}}\\mathbf{a}}.$$\n",
    "\n",
    "The projection $\\textrm{proj}_{\\mathbf{a}} \\mathbf{b}$ is *the* multiple of $\\mathbf{a}$ which minimizes the 'error' $\\mathbf{e}=\\textbf{b}-\\textbf{p}.$ (Why?)\n",
    "\n",
    "\n",
    "> Project the vector $\\mathbf{b} = (3, 7, 10)$ onto the vector $\\mathbf{a_1} = (1 ,0 ,-1).$\n",
    ">\n",
    "> Do this by hand first. Then check with the code cells below."
   ]
  },
  {
   "cell_type": "code",
   "execution_count": 4,
   "id": "448d78d5-b690-40b6-a4e6-842bd3c1192f",
   "metadata": {},
   "outputs": [],
   "source": [
    "import numpy as np\n",
    "from sympy import Matrix"
   ]
  },
  {
   "cell_type": "code",
   "execution_count": 5,
   "id": "b1bedc59-4e1f-4926-9322-e8df26bf4004",
   "metadata": {},
   "outputs": [
    {
     "data": {
      "text/plain": [
       "(array([ 1, -1,  0]), array([ 3,  7, 10]))"
      ]
     },
     "execution_count": 5,
     "metadata": {},
     "output_type": "execute_result"
    }
   ],
   "source": [
    "a1 = np.array([1, -1, 0])\n",
    "b = np.array([3, 7, 10])\n",
    "a1, b"
   ]
  },
  {
   "cell_type": "code",
   "execution_count": 6,
   "id": "887c82f1-16e1-4577-8ec6-c849ca9e6628",
   "metadata": {},
   "outputs": [
    {
     "data": {
      "text/plain": [
       "array([-2.,  2., -0.])"
      ]
     },
     "execution_count": 6,
     "metadata": {},
     "output_type": "execute_result"
    }
   ],
   "source": [
    "proj_1 =  ( (a1.T@b)/(a1.T@a1) ) * a1\n",
    "proj_1"
   ]
  },
  {
   "cell_type": "markdown",
   "id": "000e8538-52ec-4a5b-8877-148815358da5",
   "metadata": {},
   "source": [
    "> Next, project the vector $\\mathbf{b} = (3, 7, 10)$ onto the vector $\\mathbf{a_2} = (-1, 1 , 0).$ "
   ]
  },
  {
   "cell_type": "code",
   "execution_count": 8,
   "id": "159ba44f-f042-4d32-aff0-e5ad5be56821",
   "metadata": {},
   "outputs": [
    {
     "data": {
      "text/plain": [
       "array([-0. , -1.5,  1.5])"
      ]
     },
     "execution_count": 8,
     "metadata": {},
     "output_type": "execute_result"
    }
   ],
   "source": [
    "a2 = np.array([0, 1, -1])\n",
    "proj_2 = ( (a2.T@b)/(a2.T@a2) ) * a2\n",
    "proj_2"
   ]
  },
  {
   "cell_type": "code",
   "execution_count": 9,
   "id": "ef3ca896-c5c0-424c-8c71-eab0931dcca8",
   "metadata": {},
   "outputs": [
    {
     "data": {
      "text/plain": [
       "array([-2. ,  0.5,  1.5])"
      ]
     },
     "execution_count": 9,
     "metadata": {},
     "output_type": "execute_result"
    }
   ],
   "source": [
    "#Note the sum of the first two projections\n",
    "proj_1 + proj_2"
   ]
  },
  {
   "cell_type": "markdown",
   "id": "9ac39390-8b19-492d-9804-8104870b8ff4",
   "metadata": {},
   "source": [
    "> Finally, project the vector $\\mathbf{b} = (3, 7, 10)$ onto the vector $\\mathbf{a_3} = (0 , -1, 1).$ "
   ]
  },
  {
   "cell_type": "code",
   "execution_count": 11,
   "id": "a69f538f-d632-4fd4-9b2e-eeb047bd65c6",
   "metadata": {},
   "outputs": [
    {
     "data": {
      "text/plain": [
       "array([-3.5,  0. ,  3.5])"
      ]
     },
     "execution_count": 11,
     "metadata": {},
     "output_type": "execute_result"
    }
   ],
   "source": [
    "a3 = np.array([-1, 0, 1])\n",
    "proj_3 = ( (a3.T@b)/(a3.T@a3) ) * a3\n",
    "proj_3"
   ]
  },
  {
   "cell_type": "code",
   "execution_count": 12,
   "id": "2722af9f-8dae-4dab-8002-0e7db6245a3c",
   "metadata": {},
   "outputs": [
    {
     "data": {
      "text/plain": [
       "array([-5.5,  0.5,  5. ])"
      ]
     },
     "execution_count": 12,
     "metadata": {},
     "output_type": "execute_result"
    }
   ],
   "source": [
    "# Also note the sum of all three projections\n",
    "proj_1 + proj_2 + proj_3"
   ]
  },
  {
   "cell_type": "markdown",
   "id": "040a35b0-4976-41f9-bf6b-59f0b8144d5d",
   "metadata": {},
   "source": [
    "## Projection onto a subspace\n",
    "\n",
    "Assuming that our previous vectors $\\mathbf{a_1} = (1 ,0 ,-1)$, $\\mathbf{a_2} = (-1 , 1, 0)$, and  $\\mathbf{a_3} = (0 , -1 ,1)$ are column vectors of the matrix \n",
    "\n",
    "$$ A = \n",
    "\\begin{bmatrix}\n",
    "1 & -1 & 0 \\\\\n",
    "0 & 1 & -1 \\\\\n",
    "-1 & 0 & 1 \\\\\n",
    "\\end{bmatrix}\n",
    "$$\n",
    "\n",
    "we can now think about projecting $\\mathbf{b}$ onto the column space of $A$. That is we want to find the linear combination of the column vectors of $A$ that will give the projection vector in **Col($A$)** that is \"closest\" to $\\mathbf{b}$.\n",
    "\n",
    "How can we do this?\n",
    "\n",
    "First remember that matrix-vector multiplication is a linear combination of the columns of the matrix $A$. So if we are thinking of finding a ranking vector $\\mathbf{r}$ then we are asking to find the \"weights or ranks\" as entries in the ranking vector $\\mathbf{r}$ that give a projection vector $A\\mathbf{r}$ that is perpendicular to the \"error\" vector $\\mathbf{e} = (\\mathbf{b} - A\\mathbf{r}).$ \n",
    "\n",
    "Since the \"error\" vector $(\\mathbf{b} - A\\mathbf{r})$ is perpendicular to the column space of $A$ by construction it must be perpendicular to every column of $A$ as well. Solving for the entries of $\\mathbf{r}$ is equivalent to a linear system we can form using dot products in a useful way leading to what are known as the set of *normal* equations. We will use this framework to describe least squares regression as a projection in the column space of a matrix. In this fashion we can solve systems that do not have exact (either unique or infinite) solutions."
   ]
  },
  {
   "cell_type": "markdown",
   "id": "ae41fcdb-0e5f-42c0-b0d8-20d120aa7e9a",
   "metadata": {},
   "source": [
    "## Normal equations\n",
    "\n",
    "Since each column of $A$ must be perpendicular to the \"error\" vector $\\mathbf{e} = (\\mathbf{b} - A\\mathbf{r}),$ consider the systems of equations given by\n",
    "$$\n",
    "\\begin{align}\n",
    "\\mathbf{a_1}^T & (\\mathbf{b} - A\\mathbf{r})  = 0 \\\\\n",
    "\\mathbf{a_2}^T & (\\mathbf{b} - A\\mathbf{r})  = 0 \\\\\n",
    "\\vdots &  \\\\\n",
    "\\mathbf{a_n}^T & (\\mathbf{b} - A\\mathbf{r})  = 0 \\\\\n",
    "\\end{align}\n",
    "$$\n",
    "\n",
    "Also note that this system of $n$ equations in $n$ unknowns (why?) is equivalent to the matrix equation $$ A^T( \\mathbf{b} - A\\mathbf{r} ) = \\mathbf{0}.$$\n",
    "\n",
    "Distributing the tranpose of $A,$ and rearranging terms gives a new matrix equation we have a chance of solving! \n",
    "\n",
    "Check that it is allowable to write,\n",
    "\n",
    "$$ A^T A \\mathbf{r} = A^T b.$$\n",
    "\n",
    "It turns out that if the columns of A are independent then $(A^TA)$ is invertible. \n",
    "\n",
    "This is **important!** The columns of $A$ must be independent to guarantee invertibilty of $A^TA$! (And hence a that a solution exists.)\n",
    "\n",
    "How can we apply these ideas to the Massey ranking scheme? For our Massey ranking we insure invertibility of the matrix $M$ by replacing the last row of $M$ with a row of ones."
   ]
  },
  {
   "cell_type": "code",
   "execution_count": 15,
   "id": "90eeba4f-6dac-4ff1-ace8-f79a2923c03f",
   "metadata": {},
   "outputs": [
    {
     "data": {
      "text/plain": [
       "array([[ 1, -1,  0],\n",
       "       [ 0,  1, -1],\n",
       "       [-1,  0,  1]])"
      ]
     },
     "execution_count": 15,
     "metadata": {},
     "output_type": "execute_result"
    }
   ],
   "source": [
    "A = np.array([a1, a2, a3])\n",
    "A"
   ]
  },
  {
   "cell_type": "markdown",
   "id": "8ce46fe8-32f4-4956-be54-06bdc68feab3",
   "metadata": {},
   "source": [
    "## Least squares\n",
    "\n",
    "Switching gears, let's go back to a generic matrix equation $A\\mathbf{x}=\\mathbf{b}.$ \n",
    "\n",
    "And let's assume we are working with an *overdetermined* system., that is to say we are operating on a system of linear equations with more equations than unknowns (giving a matrix $A$ with more rows than columns.) In this particular situation it is very unlikely to have an exact solution or even any solutions!\n",
    "\n",
    "Also, notice that when the matrix equation $A\\mathbf{x}=\\mathbf{b}$ has no solution, this means that $\\textbf{b}$ is **not** in the column space of $A.$  \n",
    "\n",
    "If we project $\\mathbf{b}$ onto the column space $A,$ the projection $\\mathbf{\\widehat{b}} = \\textrm{proj}_{\\mathbf{a}} \\mathbf{b} = A \\mathbf{\\widehat{x}}$ is the vector in the column space of $A$ that is 'closest' to $\\mathbf{b}.$\n",
    "\n",
    "$\\hat{\\mathbf{x}}$ is the least squares solution and gives the coefficients needed for the linear combination of columns to produce $\\textbf{p}$ in this column view of the projection.\n",
    "\n",
    "That's it.  This is least squares.\n",
    "\n",
    "To find $\\mathbf{\\widehat{x}}$ we solve $A \\mathbf{\\widehat{x}} = \\mathbf{b}$ by multiplying both sides by $A^T$ and taking the inverse of $A^TA$ on the left (also on both sides.)\n",
    "\n",
    "So, $$  \\mathbf{\\widehat{x}} = (A^TA)^{-1}A^T \\mathbf{b}.$$\n",
    "\n",
    "We are guaranteed an inverse for $A^TA$ when the columns of $A$ are independent. This should agree with our previous development of projecting a vector onto the column space of a matrix whereby the solution for $ A^T A \\mathbf{r} = A^T b$ gave us the ranking vector $\\mathbf{r}$. \n",
    " \n",
    "Find $\\mathbf{\\widehat{x}}$ from our previous example, in the cell below."
   ]
  },
  {
   "cell_type": "markdown",
   "id": "b2e1c769-5169-46c2-97c5-cfd3c061d59a",
   "metadata": {},
   "source": [
    "## An example of least squares in $\\mathbb{R}^2$ \n",
    "\n",
    "Work through together."
   ]
  },
  {
   "cell_type": "code",
   "execution_count": 18,
   "id": "10e02ce3-bf3d-46bf-902d-5b36112bf504",
   "metadata": {},
   "outputs": [
    {
     "data": {
      "text/plain": [
       "array([ 0., -1., -2.])"
      ]
     },
     "execution_count": 18,
     "metadata": {},
     "output_type": "execute_result"
    }
   ],
   "source": [
    "A1 = np.array([[1, 2],\n",
    "              [2, 5],\n",
    "              [-1, 0]])\n",
    "b1 = np.array([5, -3, -1])\n",
    "#print(b1)\n",
    "A1_aug = np.hstack([A1, np.array([b1]).T])\n",
    "A1_aug\n",
    "Matrix(A1_aug).rref()[0]\n",
    "\n",
    "A1.T@A1\n",
    "A1.T@b1\n",
    "I2 = np.diag(np.ones(2))\n",
    "I2\n",
    "\n",
    "A1_I2 = np.hstack([A1.T@A1, I2])\n",
    "Matrix(A1_I2).rref()[0]\n",
    "\n",
    "x_hat = np.linalg.inv(A1.T@A1)@A1.T@b1\n",
    "x_hat\n",
    "A1@x_hat"
   ]
  },
  {
   "cell_type": "code",
   "execution_count": 57,
   "id": "cb564a62-1762-42fc-87ff-9b16bf1ba7be",
   "metadata": {},
   "outputs": [
    {
     "data": {
      "text/plain": [
       "(array([20. , 16. , 19.8, 18.4, 17.1, 15.5, 14.7, 15.7, 15.4, 16.3, 15. ,\n",
       "        17.2, 16. , 17. , 14.4]),\n",
       " array([88.6, 71.6, 93.3, 84.3, 80.6, 75.2, 69.7, 71.6, 69.4, 83.3, 79.6,\n",
       "        82.6, 80.6, 83.5, 76.3]))"
      ]
     },
     "execution_count": 57,
     "metadata": {},
     "output_type": "execute_result"
    }
   ],
   "source": [
    "A_chirp_temp = np.array([[20.0, 88.6],\n",
    "                         [16.0, 71.6],\n",
    "                         [19.8, 93.3],\n",
    "                         [18.4, 84.3],\n",
    "                         [17.1, 80.6],\n",
    "                         [15.5, 75.2],\n",
    "                         [14.7, 69.7],\n",
    "                         [15.7, 71.6],\n",
    "                         [15.4, 69.4],\n",
    "                         [16.3, 83.3],\n",
    "                         [15.0, 79.6],\n",
    "                         [17.2, 82.6],\n",
    "                         [16.0, 80.6],\n",
    "                         [17.0, 83.5],\n",
    "                         [14.4, 76.3]])\n",
    "\n",
    "C = A_chirp_temp[:, 0]\n",
    "T = A_chirp_temp[:, 1]\n",
    "C, T"
   ]
  },
  {
   "cell_type": "code",
   "execution_count": 77,
   "id": "87e334c4-c415-41f6-9de7-a9e5e3745c22",
   "metadata": {},
   "outputs": [
    {
     "data": {
      "text/plain": [
       "array([[22.84898231],\n",
       "       [ 3.410323  ]])"
      ]
     },
     "execution_count": 77,
     "metadata": {},
     "output_type": "execute_result"
    }
   ],
   "source": [
    "# We are solving for T = b0 + b1 . C\n",
    "# C -> [] [b0 b1] (this is x) = T -> []\n",
    "# so -> ---- A x = b [ A is C || b is T ]\n",
    "\n",
    "ones_vector = np.ones(15)\n",
    "A2 = np.array([ones_vector, C]).T\n",
    "B2 = np.array([T]).T\n",
    "first_matrix = np.linalg.inv(A2.T@A2)\n",
    "second_matrix = A2.T@B2\n",
    "\n",
    "b0_b1_matrix = first_matrix@second_matrix\n",
    "\n",
    "b0_b1_matrix"
   ]
  },
  {
   "cell_type": "code",
   "execution_count": 81,
   "id": "a277911c-8690-41f8-b363-aa68e0e60e9b",
   "metadata": {},
   "outputs": [],
   "source": [
    "import matplotlib.pyplot as plt"
   ]
  },
  {
   "cell_type": "code",
   "execution_count": 101,
   "id": "a0cbd615-4758-4275-b6ab-a7bfc6b36f24",
   "metadata": {},
   "outputs": [
    {
     "data": {
      "image/png": "[encoded data removed]",
      "text/plain": [
       "<Figure size 640x480 with 1 Axes>"
      ]
     },
     "metadata": {},
     "output_type": "display_data"
    }
   ],
   "source": [
    "T_hat = b0_b1_matrix[0,0] + b0_b1_matrix[1,0]*C\n",
    "plt.scatter(C,T)\n",
    "plt.plot(C, T_hat)\n",
    "plt.grid()"
   ]
  },
  {
   "cell_type": "code",
   "execution_count": null,
   "id": "711e2bdb-bbe8-4725-a96e-e0c9dcf8f025",
   "metadata": {},
   "outputs": [],
   "source": []
  }
 ],
 "metadata": {
  "kernelspec": {
   "display_name": "Python 3 (ipykernel)",
   "language": "python",
   "name": "python3"
  },
  "language_info": {
   "codemirror_mode": {
    "name": "ipython",
    "version": 3
   },
   "file_extension": ".py",
   "mimetype": "text/x-python",
   "name": "python",
   "nbconvert_exporter": "python",
   "pygments_lexer": "ipython3",
   "version": "3.12.4"
  }
 },
 "nbformat": 4,
 "nbformat_minor": 5
}
