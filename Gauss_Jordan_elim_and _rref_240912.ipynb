{
 "cells": [
  {
   "cell_type": "markdown",
   "metadata": {},
   "source": [
    "# Gauss-Jordan elimination and the Row-reduced echelon form (rref) of a matrix"
   ]
  },
  {
   "cell_type": "markdown",
   "metadata": {},
   "source": [
    "## Systems of linear equations in matrix form\n",
    "\n",
    "We have previously seen that there may be a connection between matrix products and systems of equations. Let's explore further.\n",
    "\n",
    "The column-view definition of a matrix-vector product, $A\\textbf{x} = \\textbf{b},$ is the linear combination of the columns of $A$ with weights from the vector $\\textbf{x}$ given by\n",
    "\n",
    "$$ A\\textbf{x} \\; = \\; x_1 \\textbf{v}_1 + x_2 \\textbf{v}_2 + \\ldots + x_n \\textbf{v}_n = \\textbf{b}$$\n",
    "\n",
    "where $A = [\\textbf{v}_1 \\; \\textbf{v}_2 \\; \\ldots \\; \\textbf{v}_n],$ \n",
    "\n",
    "and \n",
    "\n",
    "$\n",
    "\\textbf{x} =\n",
    "\\begin{bmatrix}\n",
    "x_1 \\\\ \\vdots \\\\ x_n\n",
    "\\end{bmatrix}.\n",
    "$\n",
    "\n",
    "The number of rows of $A$ will determine the length of $\\textbf{b}.$ If $A$ is an $m \\times n$ matrix, then $\\textbf{b}$ is an $m \\times 1$ column vector.\n",
    "\n",
    "Treat each entry of $\\textbf{x}$ as a variable, and the matrix values $a_{ij}$ (i-th row, j-th col of $A$) as the corresponding coefficients naturally occurring from our matrix-vector product, yields the following linear system of equations:\n",
    "\n",
    "$$\n",
    "\\begin{align}\n",
    "a_{11}x_1 + a_{12}x_2 + a_{13}x_3 + \\ldots + a_{1n}x_n & = b_1 \\\\\n",
    "a_{21}x_1 + a_{22}x_2 + a_{23}x_3 + \\ldots + a_{2n}x_n & = b_2 \\\\\n",
    "a_{31}x_1 + a_{32}x_2 + a_{33}x_3 + \\ldots + a_{3n}x_n & = b_3 \\\\\n",
    "\\vdots \\hspace{1in}  &  \\\\\n",
    "a_{m1}x_1 + a_{m2}x_2 + a_{m3}x_3 + \\ldots + a_{mn}x_n & = b_m .\\\\\n",
    "\\end{align}\n",
    "$$\n",
    "\n",
    "\n",
    "### An example: Two equations and two unknowns\n",
    "\n",
    "Consider the system of linear equations,\n",
    "\n",
    "$\\begin{align}\n",
    "x_1-2x_2 & = 1 \\\\\n",
    "3x_1+2x_2 & = 11 \\\\\n",
    "\\end{align}$\n",
    "\n",
    "given by the matrix equation $A\\textbf{x}=\\textbf{b}$ where\n",
    "\n",
    "$\n",
    "A =\n",
    "\\begin{bmatrix}\n",
    "1 & -2 \\\\\n",
    "3 & 2\n",
    "\\end{bmatrix}, \\;\n",
    "\\textbf{x} =\n",
    "\\begin{bmatrix}\n",
    "x_1 \\\\\n",
    "x_2\n",
    "\\end{bmatrix},\n",
    "\\; \\text{and,} \\;\n",
    "\\textbf{b} =\n",
    "\\begin{bmatrix}\n",
    "b_1 \\\\\n",
    "b_2\n",
    "\\end{bmatrix}.\n",
    "$\n",
    "\n",
    "We can view the matrix product of $A\\textbf{x}$ in two ways:\n",
    "1. as a linear combination of the columns of $A$ with scalar coefficients $x_1$ and $x_2,$ $$x_1\\begin{bmatrix}1 \\\\ 3 \\end{bmatrix} + x_2\\begin{bmatrix} -2 \\\\ 2 \\end{bmatrix},$$ \n",
    "2. and as a vector whose entries are the row-column product of the rows of $A$ with the column vector $\\textbf{x},$ $$\\begin{bmatrix}\n",
    "\\begin{bmatrix}\n",
    "1 & -2 \\end{bmatrix} \n",
    "\\begin{bmatrix} x_1 \\\\\n",
    "x_2 \\end{bmatrix} \\\\ \n",
    "\\begin{bmatrix}\n",
    "3 & 2 \\end{bmatrix} \n",
    "\\begin{bmatrix} x_1 \\\\\n",
    "x_2 \\end{bmatrix}\n",
    "\\end{bmatrix}.$$"
   ]
  },
  {
   "cell_type": "markdown",
   "metadata": {},
   "source": [
    "### How would you solve this system?\n",
    "\n",
    "Typically we have learned some form of elimination and substitution. (Guess and check may work on a small system with integer coefficients, but for larger systems and non-integer coefficients this is unlikely to work.)\n",
    "\n",
    "If we take the first equation in our system multiplied by 3, and subtract this from the second equation, we get\n",
    "$$\\begin{align}\n",
    "x_1-2x_2 & = 1 \\\\\n",
    "0x_1+8x_2 & = 8 \\\\\n",
    "\\end{align}$$\n",
    "\n",
    "Solving the 2nd equation yields $x_2=1$ and using this value to \"back substitute\" into the first equation gives $x_1=3.$\n",
    "\n",
    "In general this process will work as long as we can produce nonzero pivots down the diagonal with zeros below each pivot."
   ]
  },
  {
   "cell_type": "markdown",
   "metadata": {},
   "source": [
    "### Reduced row echelon form (rref)\n",
    "\n",
    "The reduced row echelon form of a matrix maintains the linear independence and dependence of both the rows (expeceted) and columns!\n",
    "\n",
    "Using linear combinations of the rows of a matrix $A,$ we produce rows having leading 1's with zeros above and below in the same column. The special leading 1's are called *pivots*. \n",
    "\n",
    "+ We may use scalar multiplication to scale any row.\n",
    "+ Any pivots above a row with a pivot must be to left of pivots in lower rwos. If a row has no pivots it must be a row of zeros (check this) and must come at the bottom of the matrix.\n",
    "+ Use row combinations to produce pivots as desired.\n",
    "+ We may swap rows if necessary.\n",
    "\n",
    "We have code below for finding the reduced row echelon form of a matrix. By \"augmenting\" the matrix with $\\text{b}$ as a third column, we can keep track of the row operations on both sides of the system at the same time.  Reducing $A$ in this case to look like the $2 \\times 2$ identity matrix gives the solution we obtained by back substitution above.\n",
    "\n",
    "\n",
    "We solved this system to get $x_1=3,$ and $x_2=1.$  We did this by hand, and we also used the reduced row echelon form of $A$ where we found $A$ to be row equivalent to the $2 \\times 2$ identity matrix, \n",
    "$$ \n",
    "I \\; = \\;  \n",
    "\\begin{bmatrix}\n",
    "1 & 0 \\\\\n",
    "0 & 1 \\\\\n",
    "\\end{bmatrix}\n",
    ".$$\n",
    "\n",
    "The process of Gaussian elimination to find the **rref** of a matrix uses linear combinations of the rows of $A.$  \n",
    "\n",
    "The same process that solves a linear system of equations will also tell us when a square matrix is *invertible.*  We *augment* $A$ with the appropriate sized identity matrix and find the reduced row echelon form of this augmented matrix.  This is called Gauss-Jordan elimination."
   ]
  },
  {
   "cell_type": "code",
   "execution_count": 4,
   "metadata": {
    "collapsed": false,
    "jupyter": {
     "outputs_hidden": false
    }
   },
   "outputs": [],
   "source": [
    "import numpy as np\n",
    "from sympy import Matrix"
   ]
  },
  {
   "cell_type": "markdown",
   "metadata": {},
   "source": [
    "### Gauss-Jordan elimination and inverses\n",
    "\n",
    "We can also use *augmented* matrices with row reduction to calculate inverses when they exist. \n",
    "\n",
    "A square $n \\times n$ matrix $A$ (same number of rows as columns) has an *inverse*, $A^{-1},$ if (and only if)\n",
    "\n",
    "$$ AA^{-1} = A^{-1}A = I_n$$\n",
    "\n",
    "where $I_n$ is the $n \\times n$ identity matrix.\n",
    "\n",
    "Augmenting a square $n \\times n$ matrix by the $n \\times n$ identity matrix and row reducing to echelon form, produces the inverse matrix in place of the identity on the right precisely when we get the identity on the left in the reduced form,  \n",
    "\n",
    "$$ [A \\; | \\; I] \\sim [I \\; | \\; A^{-1}]. $$\n",
    "\n",
    "Notice that we can **not** have **any** dependent columns or rows!  \n",
    "\n",
    "We must have $n$ independent rows and $n$ independent columns in an $n \\times n$ matrix in order for it to be invertible!\n",
    "\n",
    "The code below demonstrates Gauss-Jordan elimination with our matrix $A$ from above.  The reduced row echelon form of $A$ will be the $n \\times n$ identity matrix, $I_n$, on the left after the Gauss-Jordan process is complete with the inverse of $A,$ denoted by $A^{-1},$ on the right."
   ]
  },
  {
   "cell_type": "code",
   "execution_count": 22,
   "metadata": {
    "collapsed": false,
    "jupyter": {
     "outputs_hidden": false
    }
   },
   "outputs": [
    {
     "data": {
      "text/plain": [
       "array([[1., 0.],\n",
       "       [0., 1.]])"
      ]
     },
     "execution_count": 22,
     "metadata": {},
     "output_type": "execute_result"
    }
   ],
   "source": [
    "### Comment each (pair of) line(s) of code to describe what is happening.\n",
    "\n",
    "### Create 2 x 2 matrix A as numpy array \n",
    "A = np.array([[1, -2],[3, 2]])\n",
    "A\n",
    "\n",
    "### Your comment here to describe the np.eye() command\n",
    "I = np.eye(2, dtype = int)\n",
    "I\n",
    "\n",
    "### describe np.hstack() and the named output A_I\n",
    "A_I = np.hstack([A, I])\n",
    "A_I\n",
    "\n",
    "### Aug_reduced is the name we are giving the output of the Martrix().rref() command\n",
    "## Look back at our imports. Matrix() is a command from the sympy library and can perform \n",
    "## Gaussian elimination with .rref() attached.\n",
    "Aug_reduced = Matrix(A_I).rref()[0]\n",
    "Aug_reduced\n",
    "\n",
    "# Check the type() of these output on your own.\n",
    "# What type is Aug_reduced?\n",
    "type(Aug_reduced)\n",
    "\n",
    "# We can get a numpy array back. Check data type for B\n",
    "B = np.array(Aug_reduced[:,2:4], dtype = float)\n",
    "B\n",
    "type(B)\n",
    "\n",
    "# What is B relative to A? Look back at the notes before this code cell.\n",
    "# How do the next two lines of code confirm your answer?\n",
    "A@B\n",
    "B@A"
   ]
  },
  {
   "cell_type": "markdown",
   "metadata": {},
   "source": [
    "---\n",
    "#### Question 1.\n",
    "\n",
    ">\n",
    "> Uncover each set of #'s to see what each command is doing.  Comment your code above and takes notes. Ask questions if you have them. Answer each of the following here as well as adding any additional comments you want in the code cell above. Check your formatting for readability. Use the block quote symbol `>` at the beginning of very line in this markdown cell.\n",
    ">\n",
    "> a. Briefly describe the np.eye() command.\n",
    ">\n",
    "> b. Briefly describe np.hstack() and the named output A_I.\n",
    ">\n",
    "> c. Comment briefly on `Aug_reduced = Matrix(A_I).rref()[0]`.\n",
    ">\n",
    "> d. What is the `type()` of `Aug_reduced`? What about `A` or `B`?\n",
    ">\n",
    "> e. What is B relative to A? How do the matrix multiplications `A@B` and `B@A` confirm this?\n",
    ">\n",
    ">\n",
    "\n",
    "---\n"
   ]
  },
  {
   "cell_type": "markdown",
   "metadata": {},
   "source": [
    "### Jiuzhang Suanshu (Nine Chapters on the Mathematical Art)\n",
    "\n",
    "Here is problem described in the Jiuzhang Suanshu. It can be solved by setting up a system of linear equations. (Problem statement taken from Tim Chartier's *When Life is Linear*.)\n",
    "\n",
    "> \"There are three classes of grain, of which three bundles of the first class, two of the second and one of the third make 39 measures. Two of the first, three of the second, and one of the third make 34 measures. And one of the first, two of the second, and three of the third make 26 measures.  How many measures of grain are contained in one bundle of each class?\n",
    "\n",
    "Set up a system of equations and use techniques from above to solve the word problem described in the *Jiuzhang Suanshu* problem by hand.\n",
    "\n",
    "**STOP!** Set up your system and solve by hand first before proceeding!\n",
    "\n",
    "___ \n",
    "\n",
    "Now use techniques from above to solve the linear system described in the *Jiuzhang Suanshu* problem numerically by first computing an inverse. You can do this with Python following the example above. Compare your numerical solution with your by hand solution.\n",
    "\n",
    "Check that your linear system is equivalent to the following;\n",
    "\n",
    "$\\begin{align}\n",
    "3x +  2y +  z & = 39 \\\\\n",
    "2x +  3y +  z & = 34 \\\\\n",
    "x  +  2y +  3z & = 26\n",
    "\\end{align}.$\n",
    "\n",
    "___"
   ]
  },
  {
   "cell_type": "markdown",
   "metadata": {},
   "source": [
    "#### Question 2.\n",
    "\n",
    "> a. Make sure you have completed a full Gaussian elimination by hand and fully describe the row operations used.  \n",
    ">\n",
    "> b. Put your code in the code cell below to solve numerically. Comment as needed. What does your code do?  Is it readable? Discuss briefly.\n",
    ">\n"
   ]
  },
  {
   "cell_type": "code",
   "execution_count": 32,
   "metadata": {},
   "outputs": [
    {
     "data": {
      "text/latex": [
       "$\\displaystyle \\left[\\begin{matrix}1 & 0 & 0 & \\frac{37}{4}\\\\0 & 1 & 0 & \\frac{17}{4}\\\\0 & 0 & 1 & \\frac{11}{4}\\end{matrix}\\right]$"
      ],
      "text/plain": [
       "Matrix([\n",
       "[1, 0, 0, 37/4],\n",
       "[0, 1, 0, 17/4],\n",
       "[0, 0, 1, 11/4]])"
      ]
     },
     "execution_count": 32,
     "metadata": {},
     "output_type": "execute_result"
    }
   ],
   "source": [
    "# Check your by hand calculations using the rref command from Sympy using the code axample above.\n",
    "A = np.array([\n",
    "    [3,2,1],\n",
    "    [2,3,1],\n",
    "    [1,2,3]\n",
    "])\n",
    "\n",
    "b = np.array([[39,34,26]]).T\n",
    "\n",
    "A_b = np.hstack([A, b])\n",
    "\n",
    "Matrix(A_b).rref()[0]"
   ]
  },
  {
   "cell_type": "markdown",
   "metadata": {},
   "source": [
    "### 3 x 3 system of equations, your turn!\n",
    "\n",
    "Take the $3 \\times 3$ system below. \n",
    "\n",
    "Let $A$ represent the linear system given with\n",
    "$$\n",
    "A =\n",
    "\\begin{bmatrix}\n",
    "2 & 4 & -2 \\\\\n",
    "4 & 9 & -3 \\\\\n",
    "-2 & -3 & 7\n",
    "\\end{bmatrix}.\n",
    "$$\n",
    "\n",
    "Complete a full row reduction by hand. Check with code in the cell below,\n",
    "\n",
    "(Insert any cells, markdown or code, as needed.)"
   ]
  },
  {
   "cell_type": "code",
   "execution_count": null,
   "metadata": {},
   "outputs": [],
   "source": []
  }
 ],
 "metadata": {
  "kernelspec": {
   "display_name": "Python 3 (ipykernel)",
   "language": "python",
   "name": "python3"
  },
  "language_info": {
   "codemirror_mode": {
    "name": "ipython",
    "version": 3
   },
   "file_extension": ".py",
   "mimetype": "text/x-python",
   "name": "python",
   "nbconvert_exporter": "python",
   "pygments_lexer": "ipython3",
   "version": "3.12.4"
  }
 },
 "nbformat": 4,
 "nbformat_minor": 4
}
