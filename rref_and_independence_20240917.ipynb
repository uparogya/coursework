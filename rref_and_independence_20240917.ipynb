{
 "cells": [
  {
   "cell_type": "markdown",
   "id": "3a2e7e7a-bbea-4ab9-a7cb-12a54e02430d",
   "metadata": {},
   "source": [
    "# Reduced row echelon form and linear (in)dependence"
   ]
  },
  {
   "cell_type": "markdown",
   "id": "fd9b372f-a34b-49ee-a467-0f16a3df7056",
   "metadata": {},
   "source": [
    "## Reduced row echelon form\n",
    "\n",
    "Recall that we can put a matrix into reduced row echelon form (rref) through a series of elementary row operations. Effectively we are using linear combinations of the row of a matrix to make it *row-reduced*. \n",
    "\n",
    "What is needed for a matrix to be in reduced-row echelon form?\n",
    "+ Any row that is not all zeros must start with a leading \"1,\" called a pivot. Any row without a pivot must be all zeros and will come at the \"bottom\" of the matrix.\n",
    "+ Pivots (leading 1's) must have zeros above and below in the same column of the matrix.\n",
    "+ A pivot in a \"higher\" row must be to the \"left\" of a pivot in a \"lower\" row. This also implies that a pivot in a \"lower\" row must be to the \"right\" of a pivot in a \"higher\" row.\n",
    "+ Again, any row without a pivot must be all zeros and will come at the \"bottom\" of the matrix.\n",
    "\n",
    "We may use any row combinations needed to achieve the **rref** of a matrix. Generally this is accomplished by a sequence of elementary row operations moving the matrix to the form described by focusing on:\n",
    "+ creating pivots from top left of the matrix (top rows, left cols) down to the right,\n",
    "+ after getting a pivot, zeroing out below the pivot in the same column, one row at a time,\n",
    "+ Once pivots (leading ones) are exhausted, then zero above the pivots starting in the rightmost pivot columns first,\n",
    "+ and move back up to the left zeroing above each pivot.\n",
    "+ You may swap rows if needed. You may scale (mulitply a row by a scalar) as needed. And use scale versions of pivot rows to zero above and below a pivot in the pivot column.\n",
    "\n",
    "Let's continue with an example."
   ]
  },
  {
   "cell_type": "markdown",
   "id": "3a218cb5-bc13-4def-81a8-c391709eb376",
   "metadata": {},
   "source": [
    "### An example\n",
    "\n",
    "Suppose that \n",
    "$A \\; = \\;\n",
    "\\begin{bmatrix}\n",
    "1 & 2 & 3 & 4 \\\\\n",
    "5 & 6 & 7 & 8 \\\\\n",
    "9 & 10 & 11 & 12 \\\\\n",
    "\\end{bmatrix}\n",
    "$.\n",
    "\n",
    "The following sequence of row operations will transform $A$ into reduced row echelon form.\n",
    "\n",
    "1. Notice that the upper left \"1\" is already a pivot. Replace row 2 with the (current row 2 minus 5 times row 1.)\n",
    "In symbols, $R_2: R_2 - 5R_1.$  \n",
    "\n",
    "This elementary row operation will produces\n",
    "\n",
    "$$ \n",
    "A \\; = \\;\n",
    "{\\begin{bmatrix}\n",
    "1 & 2 & 3 & 4 \\\\\n",
    "5 & 6 & 7 & 8 \\\\\n",
    "9 & 10 & 11 & 12 \\\\\n",
    "\\end{bmatrix} \n",
    "\\;\n",
    "\\longrightarrow\n",
    "\\;\n",
    "\\begin{bmatrix}\n",
    "1 & 2 & 3 & 4 \\\\\n",
    "0 & -4 & -8 & -12 \\\\\n",
    "9 & 10 & 11 & 12 \\\\\n",
    "\\end{bmatrix}}\n",
    "$$\n",
    "\n",
    "2. Replace row 3 with the (current row 3 minus 9 times row 1.) In symbols, $R_3: R_3 - 9R_1.$\n",
    "\n",
    "This elementary row operation will produces\n",
    "\n",
    "$$ \n",
    "\\begin{bmatrix}\n",
    "1 & 2 & 3 & 4 \\\\\n",
    "0 & -4 & -8 & -12 \\\\\n",
    "0 & -8 & -16 & -24 \n",
    "\\end{bmatrix}\n",
    "$$\n",
    "\n",
    "3. Now we create a pivot for row 2 by scaling the entire row by $\\frac{-1}{4}$ (ie $R_2:\\frac{-1}{4}R_2$) to get\n",
    "\n",
    "$$ \n",
    "\\begin{bmatrix}\n",
    "1 & 2 & 3 & 4 \\\\\n",
    "0 & 1 & 2 & 3 \\\\\n",
    "0 & -8 & -16 & -24 \n",
    "\\end{bmatrix}\n",
    "$$\n",
    "\n",
    "4. Continuing the process as described, zero out below the 2nd pivot, by replacing current row 3 with row 3 + 8 times row 2. (or $R_3: R_3 + 8R_2$) to get\n",
    "\n",
    "$$ \n",
    "\\begin{bmatrix}\n",
    "1 & 2 & 3 & 4 \\\\\n",
    "0 & 1 & 2 & 3 \\\\\n",
    "0 & 0 & 0 & 0 \n",
    "\\end{bmatrix}\n",
    "$$\n",
    "\n",
    "5. We have a bottom row of zeros, this is fine! As a final step we need to zero out above the 2nd pivot. Replace the current row 1 with row 1 minus 2 time row 2 (ie $R_1:R_1 - 2R_2$) to get\n",
    "\n",
    "$$ \n",
    "\\begin{bmatrix}\n",
    "1 & 0 & -1 & -2 \\\\\n",
    "0 & 1 & 2 & 3 \\\\\n",
    "0 & 0 & 0 & 0 \n",
    "\\end{bmatrix}\n",
    "$$.\n",
    "\n",
    "Compare with the`sympy` matrix command `Matrix().rref()` below."
   ]
  },
  {
   "cell_type": "code",
   "execution_count": 3,
   "id": "04c14dff-9377-4430-821f-556441742d1b",
   "metadata": {},
   "outputs": [],
   "source": [
    "# Always run this cell first! Use shift + enter\n",
    "import numpy as np\n",
    "from sympy import Matrix"
   ]
  },
  {
   "cell_type": "code",
   "execution_count": 4,
   "id": "a658001a-e44c-48c1-ad21-0218f6b58d6f",
   "metadata": {},
   "outputs": [
    {
     "name": "stdout",
     "output_type": "stream",
     "text": [
      "[[ 1  2  3  4]\n",
      " [ 5  6  7  8]\n",
      " [ 9 10 11 12]]\n",
      "\n",
      "\n"
     ]
    },
    {
     "data": {
      "text/latex": [
       "$\\displaystyle \\left[\\begin{matrix}1 & 0 & -1 & -2\\\\0 & 1 & 2 & 3\\\\0 & 0 & 0 & 0\\end{matrix}\\right]$"
      ],
      "text/plain": [
       "Matrix([\n",
       "[1, 0, -1, -2],\n",
       "[0, 1,  2,  3],\n",
       "[0, 0,  0,  0]])"
      ]
     },
     "execution_count": 4,
     "metadata": {},
     "output_type": "execute_result"
    }
   ],
   "source": [
    "# An example\n",
    "A = np.arange(12).reshape(3, 4) + 1\n",
    "print(A)\n",
    "print()\n",
    "\n",
    "# note the difference in how the matrix A is printed from the numpy array vs the Matrix command from SymPy\n",
    "Matrix(A)\n",
    "\n",
    "\n",
    "# There is no rref command in numpy. (You should wonder why!)\n",
    "# There is from the symbolic package SymPy from the Matrix command.\n",
    "print()\n",
    "Matrix(A).rref()[0]"
   ]
  },
  {
   "cell_type": "markdown",
   "id": "90604ca4-b517-47cc-b92a-31b9412bd07e",
   "metadata": {},
   "source": [
    "## Linear (in)dependence information from the rref of a matrix\n",
    "\n",
    "Since we were using row combinations to achieve the reduced form of the original matrix $A$, it follows that the reduced matrix is *row equivalent* to $A$. That is to say that the rows of both matrices produce the same set of vectors under row combinations. They contain the same \"information\".\n",
    "\n",
    "Further, the pivots gives us valuable information about the independence and dependence of both the rows and the colums of $A$! Any row (or column) of the reduced row echelon form of $A$ containing a pivot is an independent vector relative to the set of rows (or columns!)\n",
    "\n",
    "We should define what we mean by *dependent* and *independent* vectors. Note that the following definitions are in relation to some set of vectors from a vector space.\n",
    "\n",
    "Let $a_1, \\ldots ,a_m \\in \\mathbb{R} \\;$ and $ \\; \\textbf{v}_1, \\ldots , \\textbf{v}_m \\in \\mathbb{R}^n$. \n",
    "\n",
    "The set of vectors is contained in the vector space $\\mathbb{R}^n$, and we write $\\{\\textbf{v}_1, \\ldots, \\textbf{v}_m \\} \\subseteq \\mathbb{R}^n$.\n",
    "\n",
    "More generally, if we have scalars $a_1, \\ldots, a_m,$ and vectors $\\textbf{v}_1, \\ldots, \\textbf{v}_m \\in \\mathbb{R}^n $, then\n",
    "\n",
    "$$a_1 \\textbf{v}_1 + \\ldots + a_m \\textbf{v}_m \\in \\mathbb{R}^n,$$\n",
    "\n",
    "and is a linear combination of the vectors, $\\textbf{v}_1, \\ldots, \\textbf{v}_m$ , for any choice of $a_1, \\ldots, a_m \\in \\mathbb{R}.$\n",
    "\n",
    "Within in the set of vectors if we can write one vector, say $\\textbf{v}_1$ as a linear combination of the remaining vectors in the set (not all coefficients equal to zero,) then  $\\textbf{v}_1$ is *linearly dependent* and the set is a *linearly independent set* of vectors.\n",
    "\n",
    "In symbols, if there exists scalars $a_2, \\ldots, a_m \\in \\mathbb{R}$ such that\n",
    "\n",
    "$$\\textbf{v}_1 \\; = \\; a_2 \\textbf{v}_2 + \\ldots + a_m \\textbf{v}_m$$ \n",
    "\n",
    "then $\\textbf{v}_1$ is a linearly dependent vector.\n"
   ]
  },
  {
   "cell_type": "markdown",
   "id": "735c875a-b6ff-4378-800d-1b5dc626bf36",
   "metadata": {},
   "source": [
    "## Your turn\n",
    "\n",
    "We will work on a worksheet together. You will find dependent and linearly dependent vectors by hand using row reduction and check you answers with python code."
   ]
  },
  {
   "cell_type": "code",
   "execution_count": 8,
   "id": "42d292ed-27bb-432e-aef4-3a90dce37d5a",
   "metadata": {},
   "outputs": [
    {
     "name": "stdout",
     "output_type": "stream",
     "text": [
      "[[0, 1, 1, 0], [-2, 1, -1, 8], [1, -1, -2, -4]]\n",
      "\n"
     ]
    },
    {
     "data": {
      "text/latex": [
       "$\\displaystyle \\left[\\begin{matrix}1 & 0 & 0 & -4\\\\0 & 1 & 0 & 0\\\\0 & 0 & 1 & 0\\end{matrix}\\right]$"
      ],
      "text/plain": [
       "Matrix([\n",
       "[1, 0, 0, -4],\n",
       "[0, 1, 0,  0],\n",
       "[0, 0, 1,  0]])"
      ]
     },
     "execution_count": 8,
     "metadata": {},
     "output_type": "execute_result"
    }
   ],
   "source": [
    "# An example\n",
    "A = [\n",
    "    [0,1,1,0],\n",
    "    [-2,1,-1,8],\n",
    "    [1,-1,-2,-4]\n",
    "]\n",
    "print(A)\n",
    "print()\n",
    "\n",
    "# note the difference in how the matrix A is printed from the numpy array vs the Matrix command from SymPy\n",
    "Matrix(A)\n",
    "\n",
    "\n",
    "# There is no rref command in numpy. (You should wonder why!)\n",
    "# There is from the symbolic package SymPy from the Matrix command.\n",
    "# print()\n",
    "Matrix(A).rref()[0]"
   ]
  },
  {
   "cell_type": "code",
   "execution_count": 13,
   "id": "e2aab9fc-c51c-460a-9015-d006443bf6e0",
   "metadata": {},
   "outputs": [
    {
     "data": {
      "text/latex": [
       "$\\displaystyle \\left[\\begin{matrix}1 & 0 & 0 & - \\frac{3}{4}\\\\0 & 1 & 0 & \\frac{7}{4}\\\\0 & 0 & 1 & - \\frac{5}{4}\\end{matrix}\\right]$"
      ],
      "text/plain": [
       "Matrix([\n",
       "[1, 0, 0, -3/4],\n",
       "[0, 1, 0,  7/4],\n",
       "[0, 0, 1, -5/4]])"
      ]
     },
     "execution_count": 13,
     "metadata": {},
     "output_type": "execute_result"
    }
   ],
   "source": [
    "A = [\n",
    "    [2, 1, -3, 4],\n",
    "    [-1, 2, 1, 3],\n",
    "    [3, -1, 0, -4]\n",
    "]\n",
    "Matrix(A).rref()[0]"
   ]
  },
  {
   "cell_type": "code",
   "execution_count": 15,
   "id": "3f63f427-ae18-43c4-a10f-05ab8d237036",
   "metadata": {},
   "outputs": [
    {
     "data": {
      "text/latex": [
       "$\\displaystyle \\left[\\begin{matrix}1 & 0 & -3 & -1\\\\0 & 1 & -9 & 3\\end{matrix}\\right]$"
      ],
      "text/plain": [
       "Matrix([\n",
       "[1, 0, -3, -1],\n",
       "[0, 1, -9,  3]])"
      ]
     },
     "execution_count": 15,
     "metadata": {},
     "output_type": "execute_result"
    }
   ],
   "source": [
    "A = [\n",
    "    [3, -1, 0, -6],\n",
    "    [-2, 0, 6, 2]\n",
    "]\n",
    "Matrix(A).rref()[0]"
   ]
  },
  {
   "cell_type": "code",
   "execution_count": 17,
   "id": "13b1e88d-26bb-40a7-986d-b668f0e2f139",
   "metadata": {},
   "outputs": [
    {
     "data": {
      "text/latex": [
       "$\\displaystyle \\left[\\begin{matrix}1 & 2 & 0 & -1 & 0\\\\0 & 0 & 1 & 0 & 0\\\\0 & 0 & 0 & 0 & 1\\end{matrix}\\right]$"
      ],
      "text/plain": [
       "Matrix([\n",
       "[1, 2, 0, -1, 0],\n",
       "[0, 0, 1,  0, 0],\n",
       "[0, 0, 0,  0, 1]])"
      ]
     },
     "execution_count": 17,
     "metadata": {},
     "output_type": "execute_result"
    }
   ],
   "source": [
    "A = [\n",
    "    [1, 2, 0, -1, -1],\n",
    "    [2, 4, -3, -2, 1],\n",
    "    [-1, -2, 6, 1, 5]\n",
    "]\n",
    "Matrix(A).rref()[0]"
   ]
  },
  {
   "cell_type": "code",
   "execution_count": null,
   "id": "fa948716-5e67-440b-b3f4-d62c356c2fb2",
   "metadata": {},
   "outputs": [],
   "source": []
  }
 ],
 "metadata": {
  "kernelspec": {
   "display_name": "Python 3 (ipykernel)",
   "language": "python",
   "name": "python3"
  },
  "language_info": {
   "codemirror_mode": {
    "name": "ipython",
    "version": 3
   },
   "file_extension": ".py",
   "mimetype": "text/x-python",
   "name": "python",
   "nbconvert_exporter": "python",
   "pygments_lexer": "ipython3",
   "version": "3.12.4"
  }
 },
 "nbformat": 4,
 "nbformat_minor": 5
}
