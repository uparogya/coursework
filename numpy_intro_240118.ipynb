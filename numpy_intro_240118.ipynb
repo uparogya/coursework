{
 "cells": [
  {
   "cell_type": "markdown",
   "metadata": {},
   "source": [
    "# Getting started with arrays in NumPy"
   ]
  },
  {
   "cell_type": "markdown",
   "metadata": {},
   "source": [
    "The objects of interest in linear algebra are vectors and matrices. Python is used widely in numerical and scientific computing, and data science. NumPy is the standard Python library for computing with arrays (matrices/vectors). We briefly cover some commands to start working with arrays in NumPy. \n",
    "\n",
    "Check out the NumPy website at [numpy.org](https://www.numpy.org)."
   ]
  },
  {
   "cell_type": "code",
   "execution_count": 22,
   "metadata": {},
   "outputs": [],
   "source": [
    "#standard numpy import and abbreviation\n",
    "import numpy as np"
   ]
  },
  {
   "cell_type": "markdown",
   "metadata": {},
   "source": [
    "### NumPy and the N-dimensional array\n",
    "\n",
    "The **dimension** (of a vector space) in linear algebra is defined as the number of vectors in a basis. Dimension for the N-dimensional array in NumPy is also the *shape* of the array, and gives the number of rows and columns as a tuple, `(row, col)`. \n",
    "\n",
    "**Shape** may be a better term to use to avoid confusion with the vector space definition of dimension, when describing the number of rows and columns of a matrix. Context matters! When talking about the dimension of the axes, rows and columns, we use the `.shape` command/extension to get this information. Remember that the dimension of a vector space is a specific definition in describing the number of vectors in a basis.\n",
    "\n",
    "The `numpy.array()` command accepts lists (or tuples), and lists of lists, as input. Notice we imported the `numpy` library as `np`.\n",
    "\n",
    "Square brackets, `[]`, are used for lists, and regular parethenses, `()`, are used for tuples in Python. We use these groupings in the input of the array command to define vectors and matrices in Python.\n",
    "\n",
    "Let's get started with an example in the following code cell. Read the comments as well as the code!"
   ]
  },
  {
   "cell_type": "code",
   "execution_count": 70,
   "metadata": {},
   "outputs": [
    {
     "name": "stdout",
     "output_type": "stream",
     "text": [
      "[ 1 11]\n"
     ]
    },
    {
     "data": {
      "text/plain": [
       "array([ 1, 11])"
      ]
     },
     "execution_count": 70,
     "metadata": {},
     "output_type": "execute_result"
    }
   ],
   "source": [
    "# hashtags in code cells indicate a \"comment.\" Commented lines are not recognized as code.\n",
    "# Here we enter a vector, b, as a single list using a sinlge set of square brackets.\n",
    "# The vector b is a 1-D array in NumPy.\n",
    "b = np.array([1, 11])\n",
    "\n",
    "### uncomment each of the following lines one at a time, and rerun the cell.  What do you notice?\n",
    "\n",
    "b\n",
    "type(b)\n",
    "b.shape\n",
    "\n",
    "print(b) #compare this printed output to the view when b is the last line. \n",
    "b"
   ]
  },
  {
   "cell_type": "markdown",
   "metadata": {},
   "source": [
    "\n",
    "---\n",
    "#### Question 1\n",
    "\n",
    "In the code cell above, remove the hashtags (comment symbols) one at a time. Rerun the cell using shift+enter after hashtag removal.  \n",
    "\n",
    "What do you notice after each run?  Comment and take notes in the block quote here.\n",
    "\n",
    ">\n",
    "> Comment here.\n",
    ">\n",
    "---\n"
   ]
  },
  {
   "cell_type": "code",
   "execution_count": 86,
   "metadata": {},
   "outputs": [
    {
     "name": "stdout",
     "output_type": "stream",
     "text": [
      "(2, 2)\n",
      "[[ 1 -2]\n",
      " [ 3  2]]\n",
      "<class 'numpy.ndarray'>\n"
     ]
    },
    {
     "data": {
      "text/plain": [
       "array([[ 1, -2],\n",
       "       [ 3,  2]])"
      ]
     },
     "execution_count": 86,
     "metadata": {},
     "output_type": "execute_result"
    }
   ],
   "source": [
    "# This code cell shows how we enter a matrix as a 2-D array in Python.\n",
    "\n",
    "A = np.array([\n",
    "        [1, -2],\n",
    "        [3, 2],\n",
    "    ])\n",
    "A\n",
    "\n",
    "# uncomment each of the following lines one at a time, and rerun the cell.  What do you notice?\n",
    "\n",
    "type(A)\n",
    "print(A.shape)\n",
    "print(A)\n",
    "print(type(A))\n",
    "A"
   ]
  },
  {
   "cell_type": "markdown",
   "metadata": {},
   "source": [
    "---\n",
    "#### Question 2\n",
    "\n",
    "In the code cell above, remove the hashtags (comment symbol) one at a time. Rerun the cell after each removal.  \n",
    "\n",
    "What do you notice after each run?  Comment and take notes in the block quote here. Is there anything you see here that you missed in the previous question?\n",
    "\n",
    ">\n",
    "> Comment here.\n",
    ">\n",
    "---\n"
   ]
  },
  {
   "cell_type": "markdown",
   "metadata": {},
   "source": [
    "### Shape, indexing, and concatenation \n",
    "\n",
    "shape, rows, cols, shape, indexing zero-based, vectors in Python as 1-d vs 2-d objects\n",
    "\n",
    "Concatenation commands require the same array dimension, and \"shape\" along the specified axis where we are \"gluing\" them together.  Specifically, most concatenation commands require that we have two 2-D arrays to combine. \n",
    "\n",
    "Often, we may want to augment a matrix with additional column vector(s), as is the case when solving a linear system using row reduction. This happens frequently enough that there is a special command, `np.column_stack()` for this purpose.\n",
    "\n",
    "Recall, a matrix is a 2-D array in NumPy, and a vector is only a 1-D array.\n"
   ]
  },
  {
   "cell_type": "code",
   "execution_count": 94,
   "metadata": {},
   "outputs": [
    {
     "data": {
      "text/plain": [
       "array([[ 1, -2,  1],\n",
       "       [ 3,  2, 11]])"
      ]
     },
     "execution_count": 94,
     "metadata": {},
     "output_type": "execute_result"
    }
   ],
   "source": [
    "# Consider the matrix from above augmented with b as a third column vector.\n",
    "# Using column_stack, augment the 2x2 matrix A, a 2-dimensional object in Python,\n",
    "# with the vector b which is 1-dimensional.  Recall the shape of A and b.  \n",
    "#\n",
    "# Most concatenation commands require that the \"shapes\" are the same between the objects, \n",
    "# column stack allows us to add a 1-D vector to a 2-D matrix as long as \n",
    "# the number of entries in the vector match the number of rows (first dimension) in the matrix.\n",
    "\n",
    "Aug_Ab = np.column_stack((A,b))\n",
    "Aug_Ab"
   ]
  },
  {
   "cell_type": "markdown",
   "metadata": {},
   "source": [
    "We can access particular entries in a matrix or vector by giving the index of the entry we want inside of square brackets after the matrix, such as `A[1,2]`. `A[1,2]` is **not** the first row and second column entry of this matrix. It is actually the second row, third column entry since Python uses **zero-based indexing**.  We start counting at zero, not one.\n",
    "\n",
    "The case for \"[Why numbering should start at zero](https://www.cs.utexas.edu/users/EWD/transcriptions/EWD08xx/EWD831.html)\" by Edsger W. Dijkstra.\n",
    "\n",
    "Starting at zero for counting our indices using `A[row, col]` gives the desired entry.\n",
    "\n",
    "This will even work for entire rows or columns, using **slicing** by putting a colon, `:`, in the row or column position of the command.\n",
    "\n",
    "See the examples in the code cells below."
   ]
  },
  {
   "cell_type": "code",
   "execution_count": 98,
   "metadata": {},
   "outputs": [
    {
     "data": {
      "text/plain": [
       "array([ 1,  2,  3,  4,  5,  6,  7,  8,  9, 10, 11])"
      ]
     },
     "execution_count": 98,
     "metadata": {},
     "output_type": "execute_result"
    }
   ],
   "source": [
    "# arange gives integers from the starting value of 0 up to, but not including, the integer input.\n",
    "# input of 12 gives 12 entries in a the vector from 0 to 11.\n",
    "AA = np.arange(12)\n",
    "AA"
   ]
  },
  {
   "cell_type": "code",
   "execution_count": 100,
   "metadata": {},
   "outputs": [
    {
     "data": {
      "text/plain": [
       "array([[ 0,  1,  2,  3],\n",
       "       [ 4,  5,  6,  7],\n",
       "       [ 8,  9, 10, 11]])"
      ]
     },
     "execution_count": 100,
     "metadata": {},
     "output_type": "execute_result"
    }
   ],
   "source": [
    "# reshape command, changes the shape into a 3 x 4 matrix.  \n",
    "# Note that shape takes the actual \"dimensions\", where zero-based indexing is only for our indices\n",
    "# indicating position in a vector or matrix.\n",
    "AA = np.arange(12).reshape(3, 4)\n",
    "AA"
   ]
  },
  {
   "attachments": {},
   "cell_type": "markdown",
   "metadata": {},
   "source": [
    "---\n",
    "#### Question 3\n",
    "\n",
    "1. Before running the code cell below, guess at what you think the output will (should) be.\n",
    "2. Run the cell one at a time after removing each # to check yourself.  \n",
    "3. Leave your original guesses whether right or wrong. Take notes for yourself that will help you when you reference back this notebook.\n",
    "\n",
    "For each line of code listed in the comment block, do 1-3. Note anything new or special not previously mentioned.\n",
    "\n",
    ">\n",
    "> `AA[0,1]` is\n",
    "> 1\n",
    "> My guess was right/wrong. Comment further if needed.\n",
    ">\n",
    ">\n",
    "> `AA[1,3]` is\n",
    "> 7\n",
    "> My guess was right/wrong. Comment further if needed.\n",
    ">\n",
    ">\n",
    "> `AA[3,1]` is\n",
    "> err\n",
    "> My guess was right/wrong. Comment further if needed.\n",
    ">\n",
    ">\n",
    "> `AA[2,1]` is\n",
    "> 9\n",
    "> My guess was right/wrong. Comment further if needed.\n",
    ">\n",
    ">\n",
    "> `AA[:,2]` is\n",
    "> `[2, 6, 10]`\n",
    "> My guess was right/wrong. Comment further if needed.\n",
    ">\n",
    ">\n",
    "> `AA[2,:]` is\n",
    "> `[8, 9, 10, 11]`\n",
    "> My guess was right/wrong. Comment further if needed.\n",
    ">\n",
    "---"
   ]
  },
  {
   "cell_type": "code",
   "execution_count": 116,
   "metadata": {},
   "outputs": [
    {
     "data": {
      "text/plain": [
       "array([ 8,  9, 10, 11])"
      ]
     },
     "execution_count": 116,
     "metadata": {},
     "output_type": "execute_result"
    }
   ],
   "source": [
    "# Guess first and note your guess above in the question cell.\n",
    "# uncomment one line at a time and run the code cell to see the output.\n",
    "\n",
    "AA[0,1]\n",
    "AA[1,3]\n",
    "#AA[3,1]\n",
    "AA[2,1]\n",
    "AA[:,2]\n",
    "AA[2,:]"
   ]
  },
  {
   "cell_type": "markdown",
   "metadata": {},
   "source": [
    "There are several concatenation commands that will prove useful, `np.hstack()`, `np.vstack()`, and `np.concatenate()`. The *h* and *v* stand for horizontal and vertical, and we are \"stacking\" arrays.  Most commands are named suggestively in this fashion.  If you can think of what you want to do with your code, usually a quick search with suggestive key words will get reasonable results. Use the \"Google\". The NumPy documentation can also be helpful, and you should try there first.\n",
    "\n",
    "Concatentation using `np.concatenate()` allows you to designate the axis along which you are stacking the arrays. Remember we are using zero-based indexing to call the axis, (0 = row or 1 = col).\n",
    "\n",
    "See code examples below."
   ]
  },
  {
   "cell_type": "code",
   "execution_count": 118,
   "metadata": {},
   "outputs": [
    {
     "data": {
      "text/plain": [
       "array([[ 0,  1,  2,  3],\n",
       "       [ 4,  5,  6,  7],\n",
       "       [ 8,  9, 10, 11],\n",
       "       [ 0,  1,  2,  3],\n",
       "       [ 4,  5,  6,  7],\n",
       "       [ 8,  9, 10, 11]])"
      ]
     },
     "execution_count": 118,
     "metadata": {},
     "output_type": "execute_result"
    }
   ],
   "source": [
    "# vertical stack, stacks rows\n",
    "np.vstack((AA,AA))"
   ]
  },
  {
   "cell_type": "code",
   "execution_count": 120,
   "metadata": {},
   "outputs": [
    {
     "data": {
      "text/plain": [
       "array([[ 0,  1,  2,  3,  0,  1,  2,  3],\n",
       "       [ 4,  5,  6,  7,  4,  5,  6,  7],\n",
       "       [ 8,  9, 10, 11,  8,  9, 10, 11]])"
      ]
     },
     "execution_count": 120,
     "metadata": {},
     "output_type": "execute_result"
    }
   ],
   "source": [
    "# horizontal stack, stacks columns\n",
    "np.hstack((AA, AA))"
   ]
  },
  {
   "cell_type": "code",
   "execution_count": 122,
   "metadata": {},
   "outputs": [
    {
     "data": {
      "text/plain": [
       "array([[ 0,  1,  2,  3],\n",
       "       [ 4,  5,  6,  7],\n",
       "       [ 8,  9, 10, 11],\n",
       "       [ 0,  1,  2,  3],\n",
       "       [ 4,  5,  6,  7],\n",
       "       [ 8,  9, 10, 11]])"
      ]
     },
     "execution_count": 122,
     "metadata": {},
     "output_type": "execute_result"
    }
   ],
   "source": [
    "# concatenation along rows, stacks rows, same as vstack\n",
    "np.concatenate((AA, AA), axis = 0)"
   ]
  },
  {
   "cell_type": "markdown",
   "metadata": {},
   "source": [
    "The commands `hstack()` and `concatenate()` will not work on A and b, beacause they have different shapes. But putting the 1-D vector, b, into the array command inside square brackets, `np.array([b])` gives the desired result."
   ]
  },
  {
   "cell_type": "code",
   "execution_count": null,
   "metadata": {},
   "outputs": [],
   "source": [
    "# b_ is just a name, object we create, we name on the left of the equal sign\n",
    "b_ = np.array([b])\n",
    "\n",
    "# b_ has how many brackets? What is the shape?\n",
    "b_\n",
    "\n",
    "# uncomment as before to check out what happens with the following commands.\n",
    "# What is the .T extension? It is a transpose.  What is it doing?\n",
    "\n",
    "#b_transpose = b_.T\n",
    "#b_transpose"
   ]
  },
  {
   "cell_type": "markdown",
   "metadata": {},
   "source": [
    "---\n",
    "#### Question 4\n",
    "\n",
    "What is still confusing right now?  Take some notes for yourself here to look back at later.\n",
    "\n",
    "We have covered most of what we need to get started working with matrices and vectors in Python using NumPy arrays. \n",
    "\n",
    ">\n",
    "> Comment here. Take notes here.\n",
    ">\n",
    "---"
   ]
  }
 ],
 "metadata": {
  "kernelspec": {
   "display_name": "Python 3 (ipykernel)",
   "language": "python",
   "name": "python3"
  },
  "language_info": {
   "codemirror_mode": {
    "name": "ipython",
    "version": 3
   },
   "file_extension": ".py",
   "mimetype": "text/x-python",
   "name": "python",
   "nbconvert_exporter": "python",
   "pygments_lexer": "ipython3",
   "version": "3.12.4"
  }
 },
 "nbformat": 4,
 "nbformat_minor": 4
}
