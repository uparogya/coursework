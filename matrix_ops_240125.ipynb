{
 "cells": [
  {
   "cell_type": "markdown",
   "metadata": {},
   "source": [
    "# Matrix operations"
   ]
  },
  {
   "cell_type": "markdown",
   "metadata": {},
   "source": [
    "### Matrix addition and scalar multiplication\n",
    "\n",
    "Vectors and matrices (plural of matrix) are arrays of numbers, and the main objects of interest in linear algebra. A matrix is a 2D array consisting of *m* rows and *n* columns. Our convention will always be to list rows first, and columns second (conveniently matching the convention in Python.) Vectors will always be assumed to be column vectors, unless otherwise stated.\n",
    "\n",
    "We can add any two matrices, $A$ and $B,$ (or vectors) together as long as they have the same shape, meaning the same number of rows and columns. In this case the addition is entry wise, so that the numbers in the same positions in each matrix are added to together, giving the sum of the two entries as the value in the same position in resulting matrix sum.\n",
    "\n",
    "Let $A =\n",
    "\\begin{bmatrix}\n",
    "a & b \\\\\n",
    "c & d \\\\\n",
    "\\end{bmatrix}\n",
    "$ and\n",
    "$\n",
    "B=\n",
    "\\begin{bmatrix}\n",
    "e & f \\\\\n",
    "g & h \\\\\n",
    "\\end{bmatrix}\n",
    ".$\n",
    "Then $A + B =\n",
    "\\begin{bmatrix}\n",
    "a+e & b+f \\\\\n",
    "c+g & d+h \\\\\n",
    "\\end{bmatrix}\n",
    ".$\n",
    "\n",
    "Scalar multiplication works the same way for matrices and vectors, and is an entry-wise multiplcation.  \n",
    "\n",
    "Using the matrix $A$ again from above, \n",
    "\n",
    "$$\n",
    "3A \\; = \\;\n",
    "3\\begin{bmatrix}\n",
    "a & b \\\\\n",
    "c & d \\\\\n",
    "\\end{bmatrix}\n",
    "\\;=\\;\n",
    "\\begin{bmatrix}\n",
    "3a & 3b \\\\\n",
    "3c & 3d \\\\\n",
    "\\end{bmatrix}.\n",
    "$$\n",
    "\n",
    "Note, we have to be careful with the word dimensions and dimension.  The English word *dimensions* refers to the shape of a matrix, number of rows and columns. *Dimension* has a different meaning in linear algebraic terms, typically referring to the length of a vector or denoting the number of *linearly independent* rows or columns in a matrix, or set of vectors. Be aware of this distinction when reading from different sources. We can always use shape to avoid confusion when talking about the number of rows and columns of a matrix if needed. Shape is also used as the command in Python to determine the number of rows and columns of an array.\n"
   ]
  },
  {
   "cell_type": "markdown",
   "metadata": {},
   "source": [
    "#### An example \n",
    "\n",
    "Define a $3 \\times 4$ matrix $A$ as \n",
    "\n",
    "$$\n",
    "A=\n",
    "\\begin{bmatrix}\n",
    "1 & 2 & 3 & 4 \\\\\n",
    "5 & 6 & 7 & 8 \\\\\n",
    "9 & 10 & 11 & 12\n",
    "\\end{bmatrix}\n",
    ".$$\n",
    "\n",
    "For individual entries we use $a_{i,j}$ (or just $a_{ij}$) to indicate the number in the *i*th row and *j*th column of $A.$ \n",
    "\n",
    "\n",
    "If we consider $A$ in terms of its column vectors, $\\textbf{v}_1, \\dots, \\textbf{v}_n,$ then we write the *j*th column of $A$ as $\\textbf{v}_j.$ \n",
    "\n",
    "Python uses zero-based indexing which means each index starts counting from zero. We typically start counting from one. We just need to remember this difference in convention from what is written in our notes describing entries of $A$ using $a_{ij}$ versus our Python code for the *(i+1)*th row and *(j+1)*th column matrix entry given by `A[i,j]` where $i$ and $j$ range between 0 and $n-1$ instead of 1 to $n.$ Note, for column vectors of $A,$ we then have $\\textbf{v}_{j+1},$ given by `A[:,j]` respectively for an entry or vector from the array. \n",
    "\n",
    "We can also represent vectors as 'tuples.' Note, a tuple is both a data type in Python and also a linear algebra term. Usage always depends on context. Unless otherwise stated, we are using terms in the linear algebra sense. So $\\textbf{v}_{1}$ as a triple, i.e. 3-tuple, is written as $\\textbf{v}_{1} = (1, 5, 9),$ matching the corresponding 3-space coordinates of the vector. \n",
    "\n",
    "Writing column vectors as tuples has the advantage of saving space in our written document. Always ask questions on notation sooner than later to clear up confusion. 'Fixing' notation is important so we have the same conventions and the same starting point for communicating and describing these objects. There is not a single standard or convention, so be careful when using other resources.\n",
    "\n",
    "Also, be careful with indexing. Your book and other resources usually start counting at 1.  When using and writing Python we count starting at zero. There is nothing extra to do here, just remember that Python uses zero-based indexing."
   ]
  },
  {
   "cell_type": "code",
   "execution_count": 2,
   "metadata": {},
   "outputs": [],
   "source": [
    "# Load packages, run this\n",
    "import numpy as np\n",
    "from sympy import Matrix"
   ]
  },
  {
   "cell_type": "markdown",
   "metadata": {},
   "source": [
    "---\n",
    "### Your turn\n",
    "\n",
    "Write Python code in the cell below to find the third column $\\textbf{v}_3 = (3, 7, 11)$ and the 2nd row $(5, 6, 7, 8)$ of the matrix $A.$ Verify it works.\n",
    "\n",
    "(Code provided to define $A$.)\n",
    "\n"
   ]
  },
  {
   "cell_type": "code",
   "execution_count": 4,
   "metadata": {},
   "outputs": [
    {
     "data": {
      "text/plain": [
       "array([[ 1,  2,  3,  4],\n",
       "       [ 5,  6,  7,  8],\n",
       "       [ 9, 10, 11, 12]])"
      ]
     },
     "execution_count": 4,
     "metadata": {},
     "output_type": "execute_result"
    }
   ],
   "source": [
    "# Your turn\n",
    "A = np.arange(12).reshape(3,4)+1\n",
    "A"
   ]
  },
  {
   "cell_type": "code",
   "execution_count": 11,
   "metadata": {
    "collapsed": true,
    "jupyter": {
     "outputs_hidden": true
    }
   },
   "outputs": [
    {
     "data": {
      "text/plain": [
       "array([ 3,  7, 11])"
      ]
     },
     "execution_count": 11,
     "metadata": {},
     "output_type": "execute_result"
    }
   ],
   "source": [
    "v3 = A[:,2]\n",
    "v3"
   ]
  },
  {
   "cell_type": "code",
   "execution_count": 13,
   "metadata": {},
   "outputs": [
    {
     "data": {
      "text/plain": [
       "array([5, 6, 7, 8])"
      ]
     },
     "execution_count": 13,
     "metadata": {},
     "output_type": "execute_result"
    }
   ],
   "source": [
    "r2 = A[1,:]\n",
    "r2"
   ]
  },
  {
   "cell_type": "markdown",
   "metadata": {},
   "source": [
    "---\n",
    "\n",
    "### Matrix-vector multiplication\n",
    "\n",
    "#### Column view\n",
    "\n",
    "The column view of a matrix-vector multiplication is particularly useful for understanding matrix multiplication as a linear combination of the columns of $A.$\n",
    "\n",
    "In general, for \n",
    "\n",
    "$A = [\\textbf{v}_1 \\; \\textbf{v}_2 \\; \\ldots \\; \\textbf{v}_n],$ \n",
    "\n",
    "and \n",
    "\n",
    "$\\textbf{x} =\n",
    "\\begin{bmatrix}\n",
    "x_1 \\\\ \\vdots \\\\ x_n\n",
    "\\end{bmatrix},\n",
    "$\n",
    "\n",
    "We define the matrix-vector multiplication as the linear combination of the columns of $A$ given by\n",
    "\n",
    "$$ A\\textbf{x} \\; = \\; x_1 \\textbf{v}_1 + x_2 \\textbf{v}_2 + \\ldots + x_n \\textbf{v}_n .$$"
   ]
  },
  {
   "cell_type": "markdown",
   "metadata": {},
   "source": [
    "#### Matrix-vector multiplication example\n",
    "\n",
    "\n",
    "Let\n",
    "\n",
    "$\n",
    "A=\n",
    "\\begin{bmatrix}\n",
    "1 & 2 & 3 & 4 \\\\\n",
    "5 & 6 & 7 & 8 \\\\\n",
    "9 & 10 & 11 & 12\n",
    "\\end{bmatrix}\n",
    "\\quad \\textrm{and} \\quad\n",
    "\\textbf{x} = \n",
    "\\begin{bmatrix}\n",
    "1 \\\\ 1 \\\\ 1 \\\\ -2\n",
    "\\end{bmatrix}.\n",
    "$\n",
    "\n",
    "By our definition, $A\\textbf{x}$ is a linear combination of the columns of $A$ with scalar coefficients coming from the entries of $\\textbf{x}$ given by,\n",
    "\n",
    "$ A\\textbf{x} = \n",
    "(1)\\begin{bmatrix}\n",
    "1 \\\\ 5 \\\\ 9 \n",
    "\\end{bmatrix}\n",
    "+\n",
    "(1)\\begin{bmatrix}\n",
    "2 \\\\ 6 \\\\ 10 \n",
    "\\end{bmatrix}\n",
    "+\n",
    "(1)\\begin{bmatrix}\n",
    "3 \\\\ 7 \\\\ 11 \n",
    "\\end{bmatrix}\n",
    "+\n",
    "(-2)\\begin{bmatrix}\n",
    "4 \\\\ 8 \\\\ 12 \n",
    "\\end{bmatrix}.\n",
    "$\n",
    "\n",
    "Do by hand and then check using the code below."
   ]
  },
  {
   "cell_type": "code",
   "execution_count": 15,
   "metadata": {},
   "outputs": [
    {
     "data": {
      "text/plain": [
       "array([-2,  2,  6])"
      ]
     },
     "execution_count": 15,
     "metadata": {},
     "output_type": "execute_result"
    }
   ],
   "source": [
    "# using our previously defined A and x\n",
    "# note the shapes here, x is entered as a 1D array\n",
    "x = np.array([1, 1, 1, -2])\n",
    "answer = x[0]*A[:,0] + x[1]*A[:,1] + x[2]*A[:,2] + x[3]*A[:,3] \n",
    "answer"
   ]
  },
  {
   "cell_type": "markdown",
   "metadata": {},
   "source": [
    "---\n",
    "\n",
    "### Another example (revisited)\n",
    "\n",
    "Here is an example used in the Gaussian elimination notebook, where we\n",
    "consider the system of linear equations\n",
    "\n",
    "$\\begin{align}\n",
    "x_1-2x_2 & = 1 \\\\\n",
    "3x_1+2x_2 & = 11 \\\\\n",
    "\\end{align}.$\n",
    "\n",
    "This system is given by the matrix equation $A\\textbf{x}=\\textbf{b}$ where\n",
    "\n",
    "$\n",
    "A =\n",
    "\\begin{bmatrix}\n",
    "1 & -2 \\\\\n",
    "3 & 2\n",
    "\\end{bmatrix}, \\;\n",
    "\\textbf{x} =\n",
    "\\begin{bmatrix}\n",
    "x_1 \\\\\n",
    "x_2\n",
    "\\end{bmatrix},\n",
    "\\; \\text{and,} \\;\n",
    "\\textbf{b} =\n",
    "\\begin{bmatrix}\n",
    "1 \\\\\n",
    "11\n",
    "\\end{bmatrix}.\n",
    "$\n",
    "\n",
    "We can view the matrix product of $A\\textbf{x}$ as a linear combination of the columns of $A$ with scalar coefficients $x_1$ and $x_2,$ \n",
    "\n",
    "$x_1\\begin{bmatrix}1 \\\\ 3 \\end{bmatrix} + x_2\\begin{bmatrix} -2 \\\\ 2 \\end{bmatrix}.$ \n",
    "\n",
    "Solving the system is the same as finding a *linear combination* of the columns of $A$ that equal $\\textbf{b}.$ \n",
    "\n",
    "Find the solution by hand and then check with code below."
   ]
  },
  {
   "cell_type": "code",
   "execution_count": 17,
   "metadata": {},
   "outputs": [
    {
     "name": "stdout",
     "output_type": "stream",
     "text": [
      "A = \n",
      "[[ 1 -2]\n",
      " [ 3  2]]\n",
      "\n",
      "x = \n",
      "[[3]\n",
      " [1]]\n",
      "\n"
     ]
    }
   ],
   "source": [
    "## example revisited\n",
    "A = np.array([[1, -2],[3, 2]]) # enter A by hand\n",
    "x = np.array([[3],[1]]) # enter x as a 2D column vector\n",
    "\n",
    "print(\"A = \")\n",
    "print(A)\n",
    "print(\"\")\n",
    "print(\"x = \")\n",
    "print(x)\n",
    "print(\"\")\n",
    "\n",
    "# run cell multiple times, uncovering #'s' one at a time to see what is happening\n",
    "#x[0]*A[:,0]\n",
    "#x[1]\n",
    "#x[1]*A[:,1]\n",
    "#x[0]*A[:,0] + x[1]*A[:,1]\n"
   ]
  },
  {
   "cell_type": "markdown",
   "metadata": {},
   "source": [
    "---\n",
    "### Your turn\n",
    "\n",
    "(This is Activity 2.2.2a from Understanding Linear Algebra (ULA) by David Austin at Grand Valley State University.)\n",
    "\n",
    "Use the column view of matrix-vector multiplication to calculate the product below.\n",
    "\n",
    "$\n",
    "A=\n",
    "\\begin{bmatrix}\n",
    "1 & 2 & 0 & -1 \\\\\n",
    "2 & 4 & -3 & -2 \\\\\n",
    "-1 & -2 & 6 & 1\n",
    "\\end{bmatrix}\n",
    "\\quad \\textrm{and} \\quad\n",
    "\\textbf{x} = \n",
    "\\begin{bmatrix}\n",
    "3 \\\\ 1 \\\\ -1 \\\\ 1\n",
    "\\end{bmatrix}.\n",
    "$\n",
    "\n",
    "Do by hand and then check with your code in the cell below."
   ]
  },
  {
   "cell_type": "code",
   "execution_count": 21,
   "metadata": {},
   "outputs": [
    {
     "name": "stdout",
     "output_type": "stream",
     "text": [
      "[[ 1  2  0 -1]\n",
      " [ 2  4 -3 -2]\n",
      " [-1 -2  6  1]]\n",
      "\n",
      "[ 3  1 -1  1]\n",
      "\n",
      "[  4  11 -10]\n"
     ]
    }
   ],
   "source": [
    "# Your code here\n",
    "# enter A as a 2D array\n",
    "A = np.array([[1, 2, 0, -1],[2, 4, -3, -2],[-1, -2, 6, 1]])\n",
    "print(A)\n",
    "\n",
    "print(\"\")\n",
    "\n",
    "# enter x as 1D\n",
    "x = np.array([3, 1, -1, 1])\n",
    "print(x)\n",
    "\n",
    "print(\"\")\n",
    "\n",
    "\n",
    "\n",
    "# what we did in class using linear combinations of columns of A\n",
    "# note our output is only 1D even though mathematically\n",
    "# we consider this a column vector. \n",
    "# Also note, Ax on the left is a name not a computation.\n",
    "\n",
    "A_x = x[0]*A[:,0] + x[1]*A[:,1] + x[2]*A[:,2] + x[3]*A[:,3]\n",
    "print(A_x)\n",
    "\n",
    "### next lines implement the @ operator for matrix multiplication in numpy.\n",
    "## Note that we need our vector x as 2D array here and we have two brackets, [[]]. Why?\n",
    "#x = np.array([x]).T\n",
    "#x.shape\n",
    "#A@x"
   ]
  },
  {
   "cell_type": "markdown",
   "metadata": {},
   "source": [
    "---\n",
    "### Row view\n",
    "\n",
    "Using our column view definition, we can rearrange the multiplications and addtitions using distributivity to come up with an alternate row view of a matrix-vector product.  \n",
    "\n",
    "Under the row view, the $i$-th entry of the product is the $i$-th row of $A$ multiplied by $\\textbf{x},$\n",
    "\n",
    "$$\n",
    "\\begin{bmatrix} a_{i1} & a_{i2} & \\dots & a_{in} \\end{bmatrix} \n",
    "\\begin{bmatrix}\n",
    "x_1 \\\\ x_2 \\\\ \\vdots \\\\ x_n\n",
    "\\end{bmatrix}.\n",
    "$$\n",
    "\n",
    "Using the column view definition we treat an individual row as a $1 \\times n$ matrix, so that the $i$-th entry of the product, $A\\textbf{x}_i,$\n",
    "\n",
    "is given by \n",
    "\n",
    "$$ \\left(A\\textbf{x}\\right)_i \\; = \\; x_1 a_{i1} + x_2 a_{i2} + \\ldots + x_n a_{in} \\; =\\; \\sum_{k=1}^n a_{ik}x_k. $$\n",
    "\n",
    "This \"row-column\" matrix multiplication is called the \"dot\" product.  It is a convenient convention to produce individual matrix product entries. The dot product of two vectors from $\\mathbb{R}^n$ also has important geometric properties that we use to define the length of an single vector and the \"angle\" between two vectors. (See dot product notes.)\n"
   ]
  },
  {
   "cell_type": "markdown",
   "metadata": {},
   "source": [
    "---\n",
    "### Matrix-matrix multiplication\n",
    "\n",
    "We can extend the column view and row view of matrix-vector multiplication to define matrix-matrix multiplication. \n",
    "\n",
    "Let $A$ be a $m \\times n$ matrix. This indicates that $A$ has $m$ rows and $n$ columns, and let $B$ be a $n \\times p$ matrix. This indicates that $B$ has $n$ rows and $p$ columns.\n",
    "\n",
    "We can define the matrix product of $A$ and $B$, $AB,$ when the number of columns of $A$ is the same as the number of rows of $B.$ This means that a row of $A$ has the same number of entries as a column of $B.$\n",
    "\n",
    "First note that in order for a matrix product to make sense, the number of rows for the matrix on the right of the product, must match the number of columns of the matrix on the left of the product. The product $AB$ will be an $m \\times p$ matrix.\n",
    "\n",
    "Let $\\textbf{v}_1, \\; \\textbf{v}_2, \\; \\ldots, \\; \\textbf{v}_n$ be the columns of $A,$ so that \n",
    "\n",
    "$A = [\\textbf{v}_1 \\; \\textbf{v}_2 \\; \\ldots \\; \\textbf{v}_n],$ and\n",
    "\n",
    "let $\\textbf{w}_1, \\; \\textbf{w}_2, \\; \\ldots, \\; \\textbf{w}_p$ be the columns of $B,$ so that \n",
    "\n",
    "$B = [\\textbf{w}_1 \\; \\textbf{w}_2 \\; \\ldots \\; \\textbf{w}_p].$\n",
    "\n",
    "Also note that $\\textbf{v}_k \\in \\mathbb{R}^m$ for $k$ ranging from $1$ to $n,$ and $\\textbf{w}_l \\in \\mathbb{R}^n$ for $l$ ranging from $1$ to $p.$\n",
    "\n",
    "Using the the previous matrix-vector definitions as a guide we get the following matrix-matrix multiplication definitions:\n",
    "1. Column view $$AB = [A\\textbf{w}_1 \\ A\\textbf{w}_2  \\ \\ldots \\  A\\textbf{w}_p],$$\n",
    "2. Row view $$ \\left(AB\\right)_{ij} \\; = \\; a_{i1} b_{1j} + a_{i2} b_{2j} + \\ldots + a_{in} b_{nj} \\; =\\;  \\sum_{k=1}^n a_{ik} b_{kj}. $$\n",
    "\n",
    "\n",
    "In words, the column view and row view of matrix multiplication can be described as\n",
    "1. The columns of the matrix product, $AB,$ are the matrix-vector products of $A$ with the columns of $B$ respectively, and\n",
    "2. The $ij$-th entry of the matrix product, $AB,$ is matrix-vector product of the $i$-th row of $A$ with the $j$-th column of $B,$  $$ \\left(AB\\right)_{ij} \\; = \\; (\\text{Row} \\; i) \\cdot (\\text{Col} \\; j). $$\n"
   ]
  },
  {
   "cell_type": "markdown",
   "metadata": {},
   "source": [
    "---\n",
    "### numpy @ for matrix multiplication\n",
    "\n",
    "Fortunately, there is a convenient numpy operator for matrix multiplication using the `@` symbol that will perform matrix multiplication. The \"shapes\" (dimensions) of the matrices must match for this operation to make sense.  Again, for any matrix-vector (or matrix-matrix) product to make sense, the number of columns of the left matrix, mus match the number of rows of the right matrix.\n",
    "\n",
    "For our previous examples we would use `A@x` for $A\\textbf{x}.$\n",
    "\n",
    "See the code example below, and try on your previous examples."
   ]
  },
  {
   "cell_type": "code",
   "execution_count": null,
   "metadata": {},
   "outputs": [],
   "source": [
    "# example revisited using matrix operator @\n",
    "# make sure both are 2D arrays and that the cols of A are the same as the rows of B (x in this example.)\n",
    "A = np.array([[1, -2],[3, 2]]) # enter A by hand\n",
    "x = np.array([[3],[1]]) # enter x as a 2D column vector\n",
    "A@x"
   ]
  },
  {
   "cell_type": "markdown",
   "metadata": {},
   "source": [
    "---\n",
    "### Your turn \n",
    "\n",
    "(Activity 2.2.2a from ULA using matrix products)\n",
    "\n",
    "Repeat, using the row view of matrix-vector mulitplication to enter and find the first entry of the product for Activity 2.2.2 part a from the example above.\n",
    "\n",
    "Put your code in the cell below and verify you get the same result as your linear combination of columns calculation."
   ]
  },
  {
   "cell_type": "code",
   "execution_count": null,
   "metadata": {},
   "outputs": [],
   "source": [
    "# your code here using @ for with a row view.\n",
    "A = np.array([[1, 2, 0, -1],[2, 4, -3, -2],[-1, -2, 6, 1]])\n",
    "print(A)\n",
    "print(\"\")\n",
    "\n",
    "# enter x as before as 1D\n",
    "x = np.array([3, 1, -1, 1])\n",
    "print(x)\n",
    "print(\"\")\n",
    "\n",
    "# @ recognizes what to do in this case but outputs 1D answer like before\n",
    "# put your code here\n"
   ]
  },
  {
   "cell_type": "code",
   "execution_count": null,
   "metadata": {},
   "outputs": [],
   "source": [
    "# Make x 2D as 4x1 column vector / (matrix)\n",
    "A = np.array([[1, 2, 0, -1],[2, 4, -3, -2],[-1, -2, 6, 1]])\n",
    "print(A)\n",
    "print(\"\")\n",
    "\n",
    "# enter x as 2D this time as a row with 2 sets of [[]], and take transpose.\n",
    "x = np.array([[3, 1, -1, 1]]).T\n",
    "print(x)\n",
    "print(\"\")\n",
    "\n",
    "# Output is 2D column vector.\n",
    "# Pay attention to shape.\n",
    "\n",
    "#print(A@x)\n",
    "print(\"\")\n",
    "#(A@x).shape"
   ]
  },
  {
   "cell_type": "markdown",
   "metadata": {},
   "source": [
    "---\n",
    "### Your turn, More practice\n",
    "\n",
    "Do more.  Do by hand and check with Python. Add markdown cells and comment as needed.\n"
   ]
  },
  {
   "cell_type": "code",
   "execution_count": null,
   "metadata": {},
   "outputs": [],
   "source": [
    "#Note matrix multiplication is not commutative!!\n",
    "A = np.array([[1, 2], [3, 4]])\n",
    "B = np.array([[7, 9], [5, 8]])\n",
    "print(A)\n",
    "print(B)\n",
    "print(A@B)\n",
    "B@A"
   ]
  },
  {
   "cell_type": "code",
   "execution_count": null,
   "metadata": {},
   "outputs": [],
   "source": []
  }
 ],
 "metadata": {
  "kernelspec": {
   "display_name": "Python 3 (ipykernel)",
   "language": "python",
   "name": "python3"
  },
  "language_info": {
   "codemirror_mode": {
    "name": "ipython",
    "version": 3
   },
   "file_extension": ".py",
   "mimetype": "text/x-python",
   "name": "python",
   "nbconvert_exporter": "python",
   "pygments_lexer": "ipython3",
   "version": "3.12.4"
  }
 },
 "nbformat": 4,
 "nbformat_minor": 4
}
