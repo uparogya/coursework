{
 "cells": [
  {
   "cell_type": "code",
   "execution_count": 1,
   "id": "eb9e7121-9314-46e9-bac6-d2f36e6fb64e",
   "metadata": {},
   "outputs": [],
   "source": [
    "import numpy as np\n",
    "from sympy import Matrix"
   ]
  },
  {
   "cell_type": "code",
   "execution_count": 18,
   "id": "0a2b0236-87fc-4de6-ada3-293f9440f5ef",
   "metadata": {},
   "outputs": [
    {
     "data": {
      "text/latex": [
       "$\\displaystyle \\left[\\begin{matrix}1 & 0 & 0 & -1 & -1 & 0\\\\0 & 1 & 0 & 1 & 0 & -1\\\\0 & 0 & 1 & 0 & 1 & 1\\\\0 & 0 & 0 & 0 & 0 & 0\\end{matrix}\\right]$"
      ],
      "text/plain": [
       "Matrix([\n",
       "[1, 0, 0, -1, -1,  0],\n",
       "[0, 1, 0,  1,  0, -1],\n",
       "[0, 0, 1,  0,  1,  1],\n",
       "[0, 0, 0,  0,  0,  0]])"
      ]
     },
     "execution_count": 18,
     "metadata": {},
     "output_type": "execute_result"
    }
   ],
   "source": [
    "v1 = np.array([1,0,0])\n",
    "v2 = np.array([1,1,0])\n",
    "v3 = np.array([1,1,1])\n",
    "v4 = np.array([2,3,4])\n",
    "\n",
    "arr = (\n",
    "    [1,1,1,0,0,0] ,\n",
    "    [-1,0,0,1,1,0] ,\n",
    "    [0,-1,0,-1,0,1],\n",
    "    [0,0,-1,0,-1,-1]\n",
    ")\n",
    "Matrix(arr).rref()[0]"
   ]
  },
  {
   "cell_type": "code",
   "execution_count": null,
   "id": "a2459c52-e013-4d37-ab23-8d4005dda55b",
   "metadata": {},
   "outputs": [],
   "source": []
  }
 ],
 "metadata": {
  "kernelspec": {
   "display_name": "Python 3 (ipykernel)",
   "language": "python",
   "name": "python3"
  },
  "language_info": {
   "codemirror_mode": {
    "name": "ipython",
    "version": 3
   },
   "file_extension": ".py",
   "mimetype": "text/x-python",
   "name": "python",
   "nbconvert_exporter": "python",
   "pygments_lexer": "ipython3",
   "version": "3.12.4"
  }
 },
 "nbformat": 4,
 "nbformat_minor": 5
}
