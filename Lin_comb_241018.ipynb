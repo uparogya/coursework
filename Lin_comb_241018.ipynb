{
 "cells": [
  {
   "cell_type": "markdown",
   "metadata": {},
   "source": [
    "# Vectors and linear combinations"
   ]
  },
  {
   "cell_type": "markdown",
   "metadata": {},
   "source": [
    "### Defintions\n",
    "\n",
    "The *vector spaces* we are concerned with in a first semester linear algrbra course are of the form $\\mathbb{R}^n,$ where $n$ is a positve integer. \n",
    "\n",
    "$\\mathbb{R}^n$ is $n$-dimensional Euclidean space, which is to say that $\\mathbb{R}^n$ consists of all vectors with $n$ real-valued entries. The objects (or elements) in $\\mathbb{R}^n$ are *vectors* of length $n$. More generally, vectors are elements of vector spaces. We avoid stating the definition of an abstract vector space at this time in favor of studying some specific properties of $\\mathbb{R}^n.$ \n",
    "\n",
    "Let $a, b \\in \\mathbb{R}$ and $\\textbf{v, w} \\in \\mathbb{R}^n $. \n",
    "\n",
    "These symbols indicate that $a$ and $b$ are real numbers (scalars), and that $\\textbf v$ and $\\textbf w$ are vectors with $n$ real-valued entries. \n",
    "\n",
    "We can think of $\\textbf v$ and  $\\textbf w$ as $n$-tuples in $n$-space, given by $(v_1, v_2, \\ldots, v_n)$ and $(w_1, w_2, \\ldots, w_n),$ in exactly the same way we describe points by a pair, $(x,y),$ in the plane (2-space), or as a triple, $(x, y, z),$ in 3-space.  \n",
    "\n",
    "As vectors in $\\mathbb{R}^n,$ we view $\\textbf v$ and  $\\textbf w$ as column vectors and write them as\n",
    "\n",
    "$$\n",
    "\\textbf{v} =\n",
    "\\begin{bmatrix}\n",
    "v_1 \\\\\n",
    "v_2 \\\\\n",
    "\\vdots \\\\\n",
    "v_n\n",
    "\\end{bmatrix},\n",
    "\\; \\text{and} \\; \n",
    "\\textbf{w} =\n",
    "\\begin{bmatrix}\n",
    "w_1 \\\\\n",
    "w_2 \\\\\n",
    "\\vdots \\\\\n",
    "w_n\n",
    "\\end{bmatrix}.\n",
    "$$\n",
    "\n",
    "Notice that we use bold-face for vectors, and regular script for scalars. Context always matters, and the various operations (scalar multiplication, vectoraddition) need to make sense.  We do not have vector multiplication in linear algebra. (There is dot product of vectors, but this is **not** vector multiplication.) \n",
    "\n",
    "The algebra we are studying depends on these two operations:\n",
    "1. scalar multiplication, and \n",
    "2. vector addition.\n",
    "\n",
    "A *linear combination* of vectors is a combination of vectors involving scalar multiplication and vector addition.  \n",
    "\n",
    "*Scalar multiplication* is when we multiply a vector by a real number (scalar), which is the same as multiplying each entry by the scalar value,\n",
    "\n",
    "$$\n",
    "a\\textbf{v} =\n",
    "a\\begin{bmatrix}\n",
    "v_1 \\\\\n",
    "v_2 \\\\\n",
    "\\vdots \\\\\n",
    "v_n\n",
    "\\end{bmatrix}\n",
    " =\n",
    "\\begin{bmatrix}\n",
    "a v_1 \\\\\n",
    "a v_2 \\\\\n",
    "\\vdots \\\\\n",
    "a v_n\n",
    "\\end{bmatrix}.\n",
    "$$\n",
    "\n",
    "We can add any two vectors that are the same length, and the resulting *vector addition* is given by the entry-wise addition of the vectors.\n",
    "\n",
    "For example, \n",
    "\n",
    "$$\n",
    "\\textbf{v} + \\textbf{w} =\n",
    "\\begin{bmatrix}\n",
    "v_1 \\\\\n",
    "v_2 \\\\\n",
    "\\vdots \\\\\n",
    "v_n\n",
    "\\end{bmatrix}\n",
    " +\n",
    "\\begin{bmatrix}\n",
    "w_1 \\\\\n",
    "w_2 \\\\\n",
    "\\vdots \\\\\n",
    "w_n\n",
    "\\end{bmatrix}\n",
    " =\n",
    "\\begin{bmatrix}\n",
    "v_1 + w_1 \\\\\n",
    "v_2 + w_2 \\\\\n",
    "\\vdots \\\\\n",
    "v_n + w_n\n",
    "\\end{bmatrix}.\n",
    "$$\n",
    "\n",
    "A linear combination of $\\textbf v$ and  $\\textbf w$ is given by \n",
    "\n",
    "$$a\\textbf{v} + b\\textbf{w}, $$\n",
    "\n",
    "where $a$ and $b$ are scalars (real numbers.)\n",
    "\n",
    "More generally, if we have scalars $a_1, \\ldots, a_m,$ and vectors $\\textbf{v}_1, \\ldots, \\textbf{v}_m \\in \\mathbb{R}^n $, then\n",
    "\n",
    "$$a_1 \\textbf{v}_1 + \\ldots + a_m \\textbf{v}_m \\in \\mathbb{R}^n,$$\n",
    "\n",
    "and will always give a linear combination of the vectors, $\\textbf{v}_1, \\ldots, \\textbf{v}_m$ , for any choice of $a_1, \\ldots, a_m \\in \\mathbb{R}.$\n",
    "\n",
    "Note that the bold-faced $\\textbf{v}_k$ are vectors as opposed to real-valued entries of vector as above.  Also, note the index $k$ ranges from $1$ to $m.$\n"
   ]
  },
  {
   "cell_type": "code",
   "execution_count": 3,
   "metadata": {},
   "outputs": [],
   "source": [
    "# Always run this cell first! Use shift + enter\n",
    "import numpy as np"
   ]
  },
  {
   "cell_type": "markdown",
   "metadata": {},
   "source": [
    "#### Example 1\n",
    "\n",
    "Take notes on what you observe, or questions you have after running each of the commented lines one at a time in the code cell below.\n",
    "\n",
    "***\n",
    ">\n",
    "> Your comments/notes here.\n",
    ">\n",
    "***"
   ]
  },
  {
   "cell_type": "code",
   "execution_count": 17,
   "metadata": {},
   "outputs": [
    {
     "data": {
      "text/plain": [
       "array([15, 25])"
      ]
     },
     "execution_count": 17,
     "metadata": {},
     "output_type": "execute_result"
    }
   ],
   "source": [
    "# Example 1\n",
    "\n",
    "v1 = np.array([1, 4])\n",
    "v2 = np.array([3, 5])\n",
    "a1 = 2\n",
    "a2 = 3\n",
    "\n",
    "# Guess each of the following outputs, then uncomment (remove #) and run one at a time to check.\n",
    "# Put your comments/observations in the markdown cell above.\n",
    "\n",
    "a1*v1\n",
    "a2*v2\n",
    "v1 + v2\n",
    "a1*v1 + a1*v2\n",
    "a1*(v1 + v2)\n",
    "a1*v2 + a2*v2"
   ]
  },
  {
   "cell_type": "markdown",
   "metadata": {
    "tags": []
   },
   "source": [
    "#### Example 2a\n",
    "\n",
    "Use what you learned from the numpy_intro notebook to access cols of a matrix and consider various linear combinations of the columns.\n",
    "\n",
    "***\n",
    ">\n",
    "> Your comments/notes here.\n",
    ">\n",
    "***"
   ]
  },
  {
   "cell_type": "code",
   "execution_count": null,
   "metadata": {},
   "outputs": [],
   "source": [
    "# column way for linear combinations of Ax\n",
    "A = np.arange(6)\n",
    "A = A + 1\n",
    "A"
   ]
  },
  {
   "cell_type": "code",
   "execution_count": null,
   "metadata": {
    "tags": []
   },
   "outputs": [],
   "source": [
    "A = A.reshape(2, 3).T\n",
    "A"
   ]
  },
  {
   "cell_type": "code",
   "execution_count": null,
   "metadata": {},
   "outputs": [],
   "source": [
    "# Find the linear combinations of the cols of A with weights 1 and 1.\n",
    "print(A[:,0] + A[:, 1])\n",
    "\n",
    "# Find the linear combinations of the cols of A with weights 3 and -1\n",
    "print(3*A[:,0] - A[:, 1])"
   ]
  },
  {
   "cell_type": "markdown",
   "metadata": {},
   "source": [
    "#### Example 2b\n",
    " \n",
    "Using the same matrix A above we show a simple for loop first and the matrix product Ax.  b\n",
    "\n",
    "***\n",
    ">\n",
    "> Your comments/notes here.\n",
    ">\n",
    "***"
   ]
  },
  {
   "cell_type": "code",
   "execution_count": null,
   "metadata": {
    "tags": []
   },
   "outputs": [],
   "source": [
    "# For loop example.  Note we loop on cols of A and entries of x for both sets of weight from Example 2a.\n",
    "\n",
    "# Find number of rows and cols\n",
    "r, c = A.shape\n",
    "r, c\n",
    "\n",
    "# Initialize zero vector to allocate memory\n",
    "lin_comb_cols = np.zeros(r)\n",
    "print(lin_comb_cols)\n",
    "\n",
    "for i in range(c):\n",
    "    lin_comb_cols = lin_comb_cols + A[:,i]\n",
    "    print(lin_comb_cols)\n",
    "    \n",
    "lin_comb_cols\n"
   ]
  },
  {
   "cell_type": "code",
   "execution_count": null,
   "metadata": {},
   "outputs": [],
   "source": [
    "# Find number of rows and cols\n",
    "r, c = A.shape\n",
    "r, c\n",
    "\n",
    "x = np.array([3, -1])\n",
    "\n",
    "# Initialize zero vector to allocate memory\n",
    "lin_comb_cols = np.zeros(r)\n",
    "print(lin_comb_cols)\n",
    "\n",
    "for i in range(c):\n",
    "    lin_comb_cols = lin_comb_cols + x[i]*A[:,i]\n",
    "    print(lin_comb_cols)\n",
    "    \n",
    "lin_comb_cols"
   ]
  },
  {
   "cell_type": "code",
   "execution_count": null,
   "metadata": {},
   "outputs": [],
   "source": [
    "A, x"
   ]
  },
  {
   "cell_type": "code",
   "execution_count": null,
   "metadata": {},
   "outputs": [],
   "source": [
    "# The matrix product of A and vector x\n",
    "A@x"
   ]
  }
 ],
 "metadata": {
  "kernelspec": {
   "display_name": "Python 3 (ipykernel)",
   "language": "python",
   "name": "python3"
  },
  "language_info": {
   "codemirror_mode": {
    "name": "ipython",
    "version": 3
   },
   "file_extension": ".py",
   "mimetype": "text/x-python",
   "name": "python",
   "nbconvert_exporter": "python",
   "pygments_lexer": "ipython3",
   "version": "3.12.4"
  }
 },
 "nbformat": 4,
 "nbformat_minor": 4
}
